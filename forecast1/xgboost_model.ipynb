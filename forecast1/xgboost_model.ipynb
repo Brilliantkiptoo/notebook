{
  "cells": [
    {
      "cell_type": "markdown",
      "source": [
        "#Xgboost model"
      ],
      "metadata": {
        "id": "_14wxBAW_wDG"
      }
    },
    {
      "cell_type": "code",
      "source": [
        "import pandas as pd\n",
        "from sklearn.model_selection import train_test_split\n",
        "from sklearn.preprocessing import StandardScaler\n",
        "from sklearn.metrics import roc_auc_score\n",
        "from xgboost import XGBRegressor\n",
        "from sklearn.impute import SimpleImputer\n",
        "\n",
        "# Load the training and test datasets\n",
        "train_data = pd.read_csv('/content/train.csv', dtype={'yr': str})\n",
        "test_data = pd.read_csv('/content/test.csv', dtype={'yr': str})\n",
        "\n",
        "# Define features and target variable\n",
        "numeric_features = ['GP', 'Min_per', 'Ortg', 'usg', 'eFG', 'TS_per', 'ORB_per', 'DRB_per',\n",
        "                   'AST_per', 'TO_per', 'FTM', 'FTA', 'FT_per', 'twoPM', 'twoPA', 'twoP_per',\n",
        "                   'TPM', 'TPA', 'TP_per', 'blk_per', 'stl_per', 'ftr', 'porpag', 'adjoe',\n",
        "                   'Rec_Rank', 'ast_tov', 'rim_ratio', 'mid_ratio', 'dunks_ratio',\n",
        "                   'pick', 'drtg', 'adrtg', 'dporpag', 'stops', 'bpm', 'obpm', 'dbpm', 'gbpm',\n",
        "                   'mp', 'ogbpm', 'dgbpm', 'oreb', 'dreb', 'treb', 'ast', 'stl', 'blk', 'pts']\n",
        "\n",
        "target = 'drafted'\n",
        "\n",
        "# Drop rows with NaN values in the selected numeric features\n",
        "train_data = train_data.dropna(subset=numeric_features)\n",
        "\n",
        "# Split data into features and target\n",
        "X = train_data[numeric_features]\n",
        "y = train_data[target]\n",
        "\n",
        "# Split data into training and validation sets\n",
        "X_train, X_val, y_train, y_val = train_test_split(X, y, test_size=0.2, random_state=42)\n",
        "\n",
        "# Initialize and train an XGBoost Regressor\n",
        "xgb_regressor = XGBRegressor(random_state=42)\n",
        "xgb_regressor.fit(X_train, y_train)\n",
        "\n",
        "# Predict probabilities on the validation set\n",
        "y_val_pred_prob = xgb_regressor.predict(X_val)\n",
        "\n",
        "# Calculate AUROC score\n",
        "auroc_score = roc_auc_score(y_val, y_val_pred_prob)\n",
        "print(f'AUROC Score: {auroc_score:.4f}')\n",
        "\n",
        "# Initialize a SimpleImputer to fill missing values with the mean\n",
        "imputer = SimpleImputer(strategy='mean')\n",
        "X_test_imputed = imputer.fit_transform(test_data[numeric_features])\n",
        "\n",
        "# Preprocess test data using standard scaling\n",
        "scaler = StandardScaler()\n",
        "X_test_scaled = scaler.fit_transform(X_test_imputed)\n",
        "\n",
        "# Predict on the test set\n",
        "y_test_pred_prob = xgb_regressor.predict(X_test_scaled)\n",
        "\n",
        "# Submission file\n",
        "submission = pd.DataFrame({'player_id': test_data['player_id'], 'drafted': y_test_pred_prob})\n",
        "submission.to_csv('submission_xgboost.csv', index=False)\n"
      ],
      "metadata": {
        "id": "uO3V5UQvZESu"
      },
      "execution_count": null,
      "outputs": []
    }
  ],
  "metadata": {
    "colab": {
      "provenance": []
    },
    "kernelspec": {
      "display_name": "Python 3",
      "name": "python3"
    }
  },
  "nbformat": 4,
  "nbformat_minor": 0
}