{
  "cells": [
    {
      "cell_type": "markdown",
      "metadata": {
        "id": "X9mYpnuWn7sL"
      },
      "source": [
        "# Data Preparation\n",
        "\n"
      ]
    },
    {
      "cell_type": "code",
      "execution_count": 1,
      "metadata": {
        "id": "kPhidP1An7sT"
      },
      "outputs": [],
      "source": [
        "# Load libraries\n",
        "import pandas as pd\n",
        "from sklearn.model_selection import train_test_split\n",
        "from sklearn.linear_model import LinearRegression\n",
        "from sklearn.metrics import mean_squared_error\n",
        "\n",
        "\n",
        "\n",
        "\n",
        "\n",
        "\n"
      ]
    },
    {
      "cell_type": "code",
      "execution_count": 2,
      "metadata": {
        "id": "Q5Am-Sktn7sX"
      },
      "outputs": [],
      "source": [
        "# Load data\n",
        "sales_train = pd.read_csv('/content/sales_train.csv')\n",
        "calendar = pd.read_csv('/content/calendar.csv')\n",
        "items = pd.read_csv('/content/items_weekly_sell_prices.csv')\n",
        "events = pd.read_csv('/content/calendar_events.csv')"
      ]
    },
    {
      "cell_type": "code",
      "execution_count": 3,
      "metadata": {
        "id": "FKktMeCsn7sa"
      },
      "outputs": [],
      "source": [
        "items = items.iloc[:len(sales_train)]"
      ]
    },
    {
      "cell_type": "code",
      "execution_count": 4,
      "metadata": {
        "colab": {
          "base_uri": "https://localhost:8080/"
        },
        "id": "ffnrvpKUn7sb",
        "outputId": "202c4ee7-1b96-4c5d-de7e-e5ad4b27ae3a"
      },
      "outputs": [
        {
          "output_type": "stream",
          "name": "stdout",
          "text": [
            "Number of rows: 30490\n"
          ]
        }
      ],
      "source": [
        "\n",
        "row_count = items.shape[0]\n",
        "print(\"Number of rows:\", row_count)"
      ]
    },
    {
      "cell_type": "code",
      "execution_count": 5,
      "metadata": {
        "id": "onBarvjCn7sc"
      },
      "outputs": [],
      "source": [
        "train_data_sales = pd.concat([sales_train, items], axis=1)\n",
        "\n"
      ]
    },
    {
      "cell_type": "code",
      "execution_count": 6,
      "metadata": {
        "colab": {
          "base_uri": "https://localhost:8080/"
        },
        "id": "F5b8X-wfn7sd",
        "outputId": "2311c0f8-224a-4993-ed7f-8a037867a519"
      },
      "outputs": [
        {
          "output_type": "stream",
          "name": "stdout",
          "text": [
            "Index(['id', 'item_id', 'dept_id', 'cat_id', 'store_id', 'state_id', 'd_1',\n",
            "       'd_2', 'd_3', 'd_4',\n",
            "       ...\n",
            "       'd_1536', 'd_1537', 'd_1538', 'd_1539', 'd_1540', 'd_1541', 'store_id',\n",
            "       'item_id', 'wm_yr_wk', 'sell_price'],\n",
            "      dtype='object', length=1551)\n"
          ]
        }
      ],
      "source": [
        "print(train_data_sales.columns)"
      ]
    },
    {
      "cell_type": "code",
      "execution_count": 7,
      "metadata": {
        "colab": {
          "base_uri": "https://localhost:8080/"
        },
        "id": "01--m_lIn7sf",
        "outputId": "b0087219-26ec-4f4c-e9df-9418f9a3ba09"
      },
      "outputs": [
        {
          "output_type": "stream",
          "name": "stdout",
          "text": [
            "Head:\n",
            "                              id        item_id    dept_id   cat_id  store_id  \\\n",
            "0  HOBBIES_1_001_CA_1_evaluation  HOBBIES_1_001  HOBBIES_1  HOBBIES      CA_1   \n",
            "1  HOBBIES_1_002_CA_1_evaluation  HOBBIES_1_002  HOBBIES_1  HOBBIES      CA_1   \n",
            "2  HOBBIES_1_003_CA_1_evaluation  HOBBIES_1_003  HOBBIES_1  HOBBIES      CA_1   \n",
            "3  HOBBIES_1_004_CA_1_evaluation  HOBBIES_1_004  HOBBIES_1  HOBBIES      CA_1   \n",
            "4  HOBBIES_1_005_CA_1_evaluation  HOBBIES_1_005  HOBBIES_1  HOBBIES      CA_1   \n",
            "\n",
            "  state_id  d_1  d_2  d_3  d_4  ...  d_1536  d_1537  d_1538  d_1539  d_1540  \\\n",
            "0       CA    0    0    0    0  ...       1       0       1       0       0   \n",
            "1       CA    0    0    0    0  ...       0       0       0       0       1   \n",
            "2       CA    0    0    0    0  ...       0       0       0       0       0   \n",
            "3       CA    0    0    0    0  ...       2       3       1       1       3   \n",
            "4       CA    0    0    0    0  ...       2       1       1       2       2   \n",
            "\n",
            "   d_1541  store_id        item_id  wm_yr_wk  sell_price  \n",
            "0       1      CA_1  HOBBIES_1_001     11325        9.58  \n",
            "1       0      CA_1  HOBBIES_1_001     11326        9.58  \n",
            "2       0      CA_1  HOBBIES_1_001     11327        8.26  \n",
            "3       8      CA_1  HOBBIES_1_001     11328        8.26  \n",
            "4       3      CA_1  HOBBIES_1_001     11329        8.26  \n",
            "\n",
            "[5 rows x 1551 columns]\n",
            "\n",
            "Tail:\n",
            "      store_id        item_id  wm_yr_wk  sell_price\n",
            "30485     CA_1  HOBBIES_1_135     11445       20.38\n",
            "30486     CA_1  HOBBIES_1_135     11446       20.38\n",
            "30487     CA_1  HOBBIES_1_135     11447       20.38\n",
            "30488     CA_1  HOBBIES_1_135     11448       20.38\n",
            "30489     CA_1  HOBBIES_1_135     11449       20.38\n"
          ]
        }
      ],
      "source": [
        "print(\"Head:\")\n",
        "print(train_data_sales.head())\n",
        "\n",
        "# View the last few rows using the tail() function\n",
        "print(\"\\nTail:\")\n",
        "print(items.tail())"
      ]
    },
    {
      "cell_type": "code",
      "execution_count": 8,
      "metadata": {
        "id": "qlJjMPlCn7sg"
      },
      "outputs": [],
      "source": [
        "import pandas as pd\n",
        "\n",
        "# Merge training data with calendar data\n",
        "merged_data = train_data_sales.merge(calendar, how='outer')\n"
      ]
    },
    {
      "cell_type": "code",
      "execution_count": 9,
      "metadata": {
        "colab": {
          "base_uri": "https://localhost:8080/"
        },
        "id": "WaEMPQl7n7sh",
        "outputId": "f824c157-9cea-486d-94ef-b934e525e840"
      },
      "outputs": [
        {
          "output_type": "stream",
          "name": "stdout",
          "text": [
            "Head:\n",
            "                              id        item_id    dept_id   cat_id  store_id  \\\n",
            "0  HOBBIES_1_001_CA_1_evaluation  HOBBIES_1_001  HOBBIES_1  HOBBIES      CA_1   \n",
            "1  HOBBIES_1_001_CA_1_evaluation  HOBBIES_1_001  HOBBIES_1  HOBBIES      CA_1   \n",
            "2  HOBBIES_1_001_CA_1_evaluation  HOBBIES_1_001  HOBBIES_1  HOBBIES      CA_1   \n",
            "3  HOBBIES_1_001_CA_1_evaluation  HOBBIES_1_001  HOBBIES_1  HOBBIES      CA_1   \n",
            "4  HOBBIES_1_001_CA_1_evaluation  HOBBIES_1_001  HOBBIES_1  HOBBIES      CA_1   \n",
            "\n",
            "  state_id  d_1  d_2  d_3  d_4  ...  d_1538  d_1539  d_1540  d_1541  store_id  \\\n",
            "0       CA    0    0    0    0  ...       1       0       0       1      CA_1   \n",
            "1       CA    0    0    0    0  ...       1       0       0       1      CA_1   \n",
            "2       CA    0    0    0    0  ...       1       0       0       1      CA_1   \n",
            "3       CA    0    0    0    0  ...       1       0       0       1      CA_1   \n",
            "4       CA    0    0    0    0  ...       1       0       0       1      CA_1   \n",
            "\n",
            "         item_id  wm_yr_wk  sell_price        date      d  \n",
            "0  HOBBIES_1_001     11325        9.58  2013-07-13  d_897  \n",
            "1  HOBBIES_1_001     11325        9.58  2013-07-14  d_898  \n",
            "2  HOBBIES_1_001     11325        9.58  2013-07-15  d_899  \n",
            "3  HOBBIES_1_001     11325        9.58  2013-07-16  d_900  \n",
            "4  HOBBIES_1_001     11325        9.58  2013-07-17  d_901  \n",
            "\n",
            "[5 rows x 1553 columns]\n"
          ]
        }
      ],
      "source": [
        "print(\"Head:\")\n",
        "print(merged_data.head())\n"
      ]
    },
    {
      "cell_type": "code",
      "execution_count": 10,
      "metadata": {
        "id": "ve5AtMMRn7sj"
      },
      "outputs": [],
      "source": [
        "# Select relevant columns\n",
        "selected_columns = ['item_id', 'store_id', 'date', 'sell_price'] + [f'd_{i}' for i in range(1, 250)]\n",
        "sales_data = merged_data[selected_columns]"
      ]
    },
    {
      "cell_type": "code",
      "execution_count": 11,
      "metadata": {
        "id": "c94wo_PUn7sk"
      },
      "outputs": [],
      "source": [
        "# Check for duplicate column names\n",
        "duplicate_columns = sales_data.columns[sales_data.columns.duplicated()]\n",
        "if len(duplicate_columns) > 0:\n",
        "    sales_data.columns = sales_data.columns.where(~sales_data.columns.duplicated(),\n",
        "                                                  sales_data.columns + '_sales')\n",
        "\n"
      ]
    },
    {
      "cell_type": "code",
      "execution_count": null,
      "metadata": {
        "id": "uyW56gyZn7sk"
      },
      "outputs": [],
      "source": [
        "# Reshape data to have one row per sale\n",
        "sales_data_train = sales_data.melt(id_vars=['item_id', 'store_id', 'date', 'sell_price'],\n",
        "                              value_vars=sales_data.columns[4:],\n",
        "                              var_name='day', value_name='sales')"
      ]
    },
    {
      "cell_type": "code",
      "execution_count": 12,
      "metadata": {
        "id": "wyNMonSun7so"
      },
      "outputs": [],
      "source": [
        "# Convert 'date' column to datetime format\n",
        "sales_data.loc[:, 'date'] = pd.to_datetime(sales_data.loc[:, 'date'])\n"
      ]
    },
    {
      "cell_type": "code",
      "execution_count": 13,
      "metadata": {
        "colab": {
          "base_uri": "https://localhost:8080/"
        },
        "id": "F2SCxNMNn7sp",
        "outputId": "c337bddb-63b3-475c-f3e6-004b09e93c04"
      },
      "outputs": [
        {
          "output_type": "stream",
          "name": "stderr",
          "text": [
            "<ipython-input-13-ecf13c32fa92>:2: SettingWithCopyWarning: \n",
            "A value is trying to be set on a copy of a slice from a DataFrame\n",
            "\n",
            "See the caveats in the documentation: https://pandas.pydata.org/pandas-docs/stable/user_guide/indexing.html#returning-a-view-versus-a-copy\n",
            "  sales_data.sort_values(by=['item_id', 'store_id', 'date'], inplace=True)\n"
          ]
        }
      ],
      "source": [
        "# Sort the data by date\n",
        "sales_data.sort_values(by=['item_id', 'store_id', 'date'], inplace=True)\n",
        "\n"
      ]
    },
    {
      "cell_type": "code",
      "execution_count": 14,
      "metadata": {
        "id": "ERKExfuJn7sq"
      },
      "outputs": [],
      "source": [
        "# Reset index\n",
        "sales_data.reset_index(drop=True, inplace=True)"
      ]
    },
    {
      "cell_type": "code",
      "execution_count": 15,
      "metadata": {
        "colab": {
          "base_uri": "https://localhost:8080/"
        },
        "id": "cAGB6-Exn7sq",
        "outputId": "492255db-e399-453d-f4c3-18c361e9d2ee"
      },
      "outputs": [
        {
          "output_type": "stream",
          "name": "stdout",
          "text": [
            "       item_id  item_id_sales store_id store_id_sales                 date  \\\n",
            "0  FOODS_1_001  HOBBIES_1_008     CA_1           CA_1  2012-12-29 00:00:00   \n",
            "1  FOODS_1_001  HOBBIES_1_008     CA_1           CA_1  2012-12-30 00:00:00   \n",
            "2  FOODS_1_001  HOBBIES_1_008     CA_1           CA_1  2012-12-31 00:00:00   \n",
            "3  FOODS_1_001  HOBBIES_1_008     CA_1           CA_1  2013-01-01 00:00:00   \n",
            "4  FOODS_1_001  HOBBIES_1_008     CA_1           CA_1  2013-01-02 00:00:00   \n",
            "\n",
            "   sell_price  d_1  d_2  d_3  d_4  ...  d_240  d_241  d_242  d_243  d_244  \\\n",
            "0         0.5    3    0    0    1  ...      0      0      0      0      0   \n",
            "1         0.5    3    0    0    1  ...      0      0      0      0      0   \n",
            "2         0.5    3    0    0    1  ...      0      0      0      0      0   \n",
            "3         0.5    3    0    0    1  ...      0      0      0      0      0   \n",
            "4         0.5    3    0    0    1  ...      0      0      0      0      0   \n",
            "\n",
            "   d_245  d_246  d_247  d_248  d_249  \n",
            "0      0      0      0      0      0  \n",
            "1      0      0      0      0      0  \n",
            "2      0      0      0      0      0  \n",
            "3      0      0      0      0      0  \n",
            "4      0      0      0      0      0  \n",
            "\n",
            "[5 rows x 255 columns]\n"
          ]
        }
      ],
      "source": [
        "print(sales_data.head())\n"
      ]
    },
    {
      "cell_type": "markdown",
      "metadata": {
        "id": "BQX-1Eg9n7sr"
      },
      "source": [
        " # Feature Engineering"
      ]
    },
    {
      "cell_type": "code",
      "execution_count": 16,
      "metadata": {
        "colab": {
          "base_uri": "https://localhost:8080/"
        },
        "id": "HaxR7M4in7sr",
        "outputId": "ec95ffb2-5d5a-467b-9155-561bae1a5cb3"
      },
      "outputs": [
        {
          "output_type": "stream",
          "name": "stdout",
          "text": [
            "         date     event_name event_type\n",
            "0  2011-02-06      SuperBowl   Sporting\n",
            "1  2011-02-14  ValentinesDay   Cultural\n",
            "2  2011-02-21  PresidentsDay   National\n",
            "3  2011-03-09      LentStart  Religious\n"
          ]
        }
      ],
      "source": [
        "print(events.head(4))"
      ]
    },
    {
      "cell_type": "code",
      "execution_count": 17,
      "metadata": {
        "colab": {
          "base_uri": "https://localhost:8080/"
        },
        "id": "H53KDfGfn7su",
        "outputId": "0bc37916-63d4-4a91-a98c-9d77e44442f2"
      },
      "outputs": [
        {
          "output_type": "stream",
          "name": "stderr",
          "text": [
            "<ipython-input-17-d06a572e1119>:2: SettingWithCopyWarning: \n",
            "A value is trying to be set on a copy of a slice from a DataFrame.\n",
            "Try using .loc[row_indexer,col_indexer] = value instead\n",
            "\n",
            "See the caveats in the documentation: https://pandas.pydata.org/pandas-docs/stable/user_guide/indexing.html#returning-a-view-versus-a-copy\n",
            "  sales_data['date'] = pd.to_datetime(sales_data['date'])\n"
          ]
        }
      ],
      "source": [
        "# Convert 'date' column in both DataFrames to datetime format\n",
        "sales_data['date'] = pd.to_datetime(sales_data['date'])\n",
        "events['date'] = pd.to_datetime(events['date'])"
      ]
    },
    {
      "cell_type": "code",
      "execution_count": 18,
      "metadata": {
        "colab": {
          "base_uri": "https://localhost:8080/"
        },
        "id": "F29IDFQdn7sv",
        "outputId": "538954f0-92b3-4797-cf46-2a360769f71c"
      },
      "outputs": [
        {
          "output_type": "stream",
          "name": "stderr",
          "text": [
            "<ipython-input-18-7951d8c8a46d>:3: SettingWithCopyWarning: \n",
            "A value is trying to be set on a copy of a slice from a DataFrame.\n",
            "Try using .loc[row_indexer,col_indexer] = value instead\n",
            "\n",
            "See the caveats in the documentation: https://pandas.pydata.org/pandas-docs/stable/user_guide/indexing.html#returning-a-view-versus-a-copy\n",
            "  sales_data[f'lag_{lag}_sales'] = sales_data.groupby(['item_id', 'store_id'])['d_1'].shift(lag)\n",
            "<ipython-input-18-7951d8c8a46d>:3: SettingWithCopyWarning: \n",
            "A value is trying to be set on a copy of a slice from a DataFrame.\n",
            "Try using .loc[row_indexer,col_indexer] = value instead\n",
            "\n",
            "See the caveats in the documentation: https://pandas.pydata.org/pandas-docs/stable/user_guide/indexing.html#returning-a-view-versus-a-copy\n",
            "  sales_data[f'lag_{lag}_sales'] = sales_data.groupby(['item_id', 'store_id'])['d_1'].shift(lag)\n",
            "<ipython-input-18-7951d8c8a46d>:3: SettingWithCopyWarning: \n",
            "A value is trying to be set on a copy of a slice from a DataFrame.\n",
            "Try using .loc[row_indexer,col_indexer] = value instead\n",
            "\n",
            "See the caveats in the documentation: https://pandas.pydata.org/pandas-docs/stable/user_guide/indexing.html#returning-a-view-versus-a-copy\n",
            "  sales_data[f'lag_{lag}_sales'] = sales_data.groupby(['item_id', 'store_id'])['d_1'].shift(lag)\n",
            "<ipython-input-18-7951d8c8a46d>:3: SettingWithCopyWarning: \n",
            "A value is trying to be set on a copy of a slice from a DataFrame.\n",
            "Try using .loc[row_indexer,col_indexer] = value instead\n",
            "\n",
            "See the caveats in the documentation: https://pandas.pydata.org/pandas-docs/stable/user_guide/indexing.html#returning-a-view-versus-a-copy\n",
            "  sales_data[f'lag_{lag}_sales'] = sales_data.groupby(['item_id', 'store_id'])['d_1'].shift(lag)\n",
            "<ipython-input-18-7951d8c8a46d>:3: SettingWithCopyWarning: \n",
            "A value is trying to be set on a copy of a slice from a DataFrame.\n",
            "Try using .loc[row_indexer,col_indexer] = value instead\n",
            "\n",
            "See the caveats in the documentation: https://pandas.pydata.org/pandas-docs/stable/user_guide/indexing.html#returning-a-view-versus-a-copy\n",
            "  sales_data[f'lag_{lag}_sales'] = sales_data.groupby(['item_id', 'store_id'])['d_1'].shift(lag)\n",
            "<ipython-input-18-7951d8c8a46d>:3: SettingWithCopyWarning: \n",
            "A value is trying to be set on a copy of a slice from a DataFrame.\n",
            "Try using .loc[row_indexer,col_indexer] = value instead\n",
            "\n",
            "See the caveats in the documentation: https://pandas.pydata.org/pandas-docs/stable/user_guide/indexing.html#returning-a-view-versus-a-copy\n",
            "  sales_data[f'lag_{lag}_sales'] = sales_data.groupby(['item_id', 'store_id'])['d_1'].shift(lag)\n",
            "<ipython-input-18-7951d8c8a46d>:3: SettingWithCopyWarning: \n",
            "A value is trying to be set on a copy of a slice from a DataFrame.\n",
            "Try using .loc[row_indexer,col_indexer] = value instead\n",
            "\n",
            "See the caveats in the documentation: https://pandas.pydata.org/pandas-docs/stable/user_guide/indexing.html#returning-a-view-versus-a-copy\n",
            "  sales_data[f'lag_{lag}_sales'] = sales_data.groupby(['item_id', 'store_id'])['d_1'].shift(lag)\n"
          ]
        }
      ],
      "source": [
        "\n",
        "# Create lag features for sales\n",
        "for lag in range(1, 8):\n",
        "    sales_data[f'lag_{lag}_sales'] = sales_data.groupby(['item_id', 'store_id'])['d_1'].shift(lag)\n"
      ]
    },
    {
      "cell_type": "code",
      "execution_count": 19,
      "metadata": {
        "colab": {
          "base_uri": "https://localhost:8080/"
        },
        "id": "2TaJjUecn7sv",
        "outputId": "2fceb91e-f467-430e-c634-095113698861"
      },
      "outputs": [
        {
          "output_type": "stream",
          "name": "stderr",
          "text": [
            "<ipython-input-19-df65d6e03ed5>:2: SettingWithCopyWarning: \n",
            "A value is trying to be set on a copy of a slice from a DataFrame.\n",
            "Try using .loc[row_indexer,col_indexer] = value instead\n",
            "\n",
            "See the caveats in the documentation: https://pandas.pydata.org/pandas-docs/stable/user_guide/indexing.html#returning-a-view-versus-a-copy\n",
            "  sales_data['day_of_week'] = sales_data['date'].dt.dayofweek\n",
            "<ipython-input-19-df65d6e03ed5>:5: SettingWithCopyWarning: \n",
            "A value is trying to be set on a copy of a slice from a DataFrame.\n",
            "Try using .loc[row_indexer,col_indexer] = value instead\n",
            "\n",
            "See the caveats in the documentation: https://pandas.pydata.org/pandas-docs/stable/user_guide/indexing.html#returning-a-view-versus-a-copy\n",
            "  sales_data['is_weekend'] = (sales_data['day_of_week'] >= 5).astype(int)\n"
          ]
        }
      ],
      "source": [
        "# Extract day of the week\n",
        "sales_data['day_of_week'] = sales_data['date'].dt.dayofweek\n",
        "\n",
        "# Create a feature for whether it's a weekend (0 for weekdays, 1 for weekends)\n",
        "sales_data['is_weekend'] = (sales_data['day_of_week'] >= 5).astype(int)\n",
        "\n",
        "# Merge with calendar events data\n",
        "sales_data = sales_data.merge(events, on='date', how='left')\n",
        "\n",
        "# Create an event indicator (1 if an event, 0 otherwise)\n",
        "sales_data['event_indicator'] = sales_data['event_name'].notnull().astype(int)"
      ]
    },
    {
      "cell_type": "code",
      "execution_count": 20,
      "metadata": {
        "colab": {
          "base_uri": "https://localhost:8080/"
        },
        "id": "W5G-l9RJn7sw",
        "outputId": "4f641a64-c23b-4ab0-979b-a2f968fbaf36"
      },
      "outputs": [
        {
          "output_type": "stream",
          "name": "stdout",
          "text": [
            "       item_id  item_id_sales store_id store_id_sales       date  sell_price  \\\n",
            "0  FOODS_1_001  HOBBIES_1_008     CA_1           CA_1 2012-12-29        0.50   \n",
            "1  FOODS_1_001  HOBBIES_1_008     CA_1           CA_1 2012-12-30        0.50   \n",
            "2  FOODS_1_001  HOBBIES_1_008     CA_1           CA_1 2012-12-31        0.50   \n",
            "3  FOODS_1_001  HOBBIES_1_008     CA_1           CA_1 2013-01-01        0.50   \n",
            "4  FOODS_1_001  HOBBIES_1_008     CA_1           CA_1 2013-01-02        0.50   \n",
            "5  FOODS_1_001  HOBBIES_1_008     CA_1           CA_1 2013-01-03        0.50   \n",
            "6  FOODS_1_001  HOBBIES_1_008     CA_1           CA_1 2013-01-04        0.50   \n",
            "7  FOODS_1_001  HOBBIES_1_020     CA_2           CA_1 2012-12-15       11.68   \n",
            "8  FOODS_1_001  HOBBIES_1_020     CA_2           CA_1 2012-12-16       11.68   \n",
            "9  FOODS_1_001  HOBBIES_1_020     CA_2           CA_1 2012-12-17       11.68   \n",
            "\n",
            "   d_1  d_2  d_3  d_4  ...  lag_3_sales  lag_4_sales  lag_5_sales  \\\n",
            "0    3    0    0    1  ...          NaN          NaN          NaN   \n",
            "1    3    0    0    1  ...          NaN          NaN          NaN   \n",
            "2    3    0    0    1  ...          NaN          NaN          NaN   \n",
            "3    3    0    0    1  ...          3.0          NaN          NaN   \n",
            "4    3    0    0    1  ...          3.0          3.0          NaN   \n",
            "5    3    0    0    1  ...          3.0          3.0          3.0   \n",
            "6    3    0    0    1  ...          3.0          3.0          3.0   \n",
            "7    2    0    0    0  ...          NaN          NaN          NaN   \n",
            "8    2    0    0    0  ...          NaN          NaN          NaN   \n",
            "9    2    0    0    0  ...          NaN          NaN          NaN   \n",
            "\n",
            "   lag_6_sales  lag_7_sales  day_of_week  is_weekend    event_name  \\\n",
            "0          NaN          NaN            5           1           NaN   \n",
            "1          NaN          NaN            6           1           NaN   \n",
            "2          NaN          NaN            0           0           NaN   \n",
            "3          NaN          NaN            1           0       NewYear   \n",
            "4          NaN          NaN            2           0           NaN   \n",
            "5          NaN          NaN            3           0           NaN   \n",
            "6          3.0          NaN            4           0           NaN   \n",
            "7          NaN          NaN            5           1           NaN   \n",
            "8          NaN          NaN            6           1  Chanukah End   \n",
            "9          NaN          NaN            0           0           NaN   \n",
            "\n",
            "   event_type  event_indicator  \n",
            "0         NaN                0  \n",
            "1         NaN                0  \n",
            "2         NaN                0  \n",
            "3    National                1  \n",
            "4         NaN                0  \n",
            "5         NaN                0  \n",
            "6         NaN                0  \n",
            "7         NaN                0  \n",
            "8   Religious                1  \n",
            "9         NaN                0  \n",
            "\n",
            "[10 rows x 267 columns]\n"
          ]
        }
      ],
      "source": [
        "print(sales_data.head(10))"
      ]
    },
    {
      "cell_type": "code",
      "execution_count": 21,
      "metadata": {
        "id": "xzgCns6En7sw"
      },
      "outputs": [],
      "source": [
        "sales_data['lag_1_sales'].fillna(0, inplace=True)\n",
        "sales_data['lag_2_sales'].fillna(0, inplace=True)\n",
        "sales_data['lag_3_sales'].fillna(0, inplace=True)\n",
        "sales_data['lag_4_sales'].fillna(0, inplace=True)\n",
        "sales_data['lag_5_sales'].fillna(0, inplace=True)\n",
        "sales_data['lag_6_sales'].fillna(0, inplace=True)\n",
        "sales_data['lag_7_sales'].fillna(0, inplace=True)"
      ]
    },
    {
      "cell_type": "markdown",
      "metadata": {
        "id": "5r8d9rJCn7sx"
      },
      "source": [
        "# Model Selection and Training"
      ]
    },
    {
      "cell_type": "markdown",
      "metadata": {
        "id": "tEcDiuJVn7s5"
      },
      "source": [
        "# 2. Forecast Model"
      ]
    },
    {
      "cell_type": "code",
      "source": [
        "sales_data['date'] = pd.to_datetime(sales_data['date'])  # Convert date column to datetime type\n"
      ],
      "metadata": {
        "id": "pMAGJyj68UYd"
      },
      "execution_count": 22,
      "outputs": []
    },
    {
      "cell_type": "code",
      "source": [
        "sales_data['date'] = pd.to_datetime(sales_data['date'])\n",
        "daily_sales_columns = [f'd_{i}' for i in range(1, 250)]\n",
        "time_series_data = sales_data.groupby('date')[daily_sales_columns].sum().reset_index()\n",
        "time_series_data['total_sales'] = time_series_data[daily_sales_columns].sum(axis=1)\n"
      ],
      "metadata": {
        "id": "izGYFuja_fRe"
      },
      "execution_count": 24,
      "outputs": []
    },
    {
      "cell_type": "code",
      "source": [
        "import matplotlib.pyplot as plt\n",
        "\n",
        "# Plot the actual sales\n",
        "plt.figure(figsize=(10, 5))\n",
        "plt.plot(time_series_data['date'], time_series_data['total_sales'], label='Sales')\n",
        "plt.xlabel('Date')\n",
        "plt.ylabel('Sales')\n",
        "plt.title('Actual Sales')\n",
        "plt.legend()\n",
        "plt.show()\n"
      ],
      "metadata": {
        "colab": {
          "base_uri": "https://localhost:8080/",
          "height": 487
        },
        "id": "RJM8ZseF8You",
        "outputId": "2a92e5a7-6802-4948-e5fb-40aa2568598b"
      },
      "execution_count": 25,
      "outputs": [
        {
          "output_type": "display_data",
          "data": {
            "text/plain": [
              "<Figure size 1000x500 with 1 Axes>"
            ],
            "image/png": "[encoded data removed]"
          },
          "metadata": {}
        }
      ]
    },
    {
      "cell_type": "code",
      "source": [
        "# Print the column names\n",
        "print(sales_data.columns)"
      ],
      "metadata": {
        "colab": {
          "base_uri": "https://localhost:8080/"
        },
        "id": "2ieugPOn854v",
        "outputId": "7f8f24e3-0a1d-4075-841d-2ea22e3c0fd2"
      },
      "execution_count": 26,
      "outputs": [
        {
          "output_type": "stream",
          "name": "stdout",
          "text": [
            "Index(['item_id', 'item_id_sales', 'store_id', 'store_id_sales', 'date',\n",
            "       'sell_price', 'd_1', 'd_2', 'd_3', 'd_4',\n",
            "       ...\n",
            "       'lag_3_sales', 'lag_4_sales', 'lag_5_sales', 'lag_6_sales',\n",
            "       'lag_7_sales', 'day_of_week', 'is_weekend', 'event_name', 'event_type',\n",
            "       'event_indicator'],\n",
            "      dtype='object', length=267)\n"
          ]
        }
      ]
    },
    {
      "cell_type": "code",
      "source": [
        "sales_data.to_csv('output.csv', index=False)\n"
      ],
      "metadata": {
        "id": "UvTYQD9k_H-4"
      },
      "execution_count": 27,
      "outputs": []
    },
    {
      "cell_type": "code",
      "source": [
        "from statsmodels.tsa.statespace.sarimax import SARIMAX\n",
        "import datetime"
      ],
      "metadata": {
        "id": "O0bj4DCYInsE"
      },
      "execution_count": 28,
      "outputs": []
    },
    {
      "cell_type": "code",
      "source": [
        "sales_data['date'] = pd.to_datetime(sales_data['date'])\n",
        "daily_sales_columns = [f'd_{i}' for i in range(1, 250)]\n"
      ],
      "metadata": {
        "id": "A-EQgRy8Iqpp"
      },
      "execution_count": 29,
      "outputs": []
    },
    {
      "cell_type": "code",
      "source": [
        "time_series_data = sales_data.groupby('date')[daily_sales_columns].sum().reset_index()\n"
      ],
      "metadata": {
        "id": "leN1ts1CI2Uf"
      },
      "execution_count": 30,
      "outputs": []
    },
    {
      "cell_type": "code",
      "source": [
        "# Sum the daily sales columns to calculate total daily sales\n",
        "time_series_data['total_sales'] = time_series_data[daily_sales_columns].sum(axis=1)\n"
      ],
      "metadata": {
        "id": "DmSqUXzcJOVu"
      },
      "execution_count": 31,
      "outputs": []
    },
    {
      "cell_type": "code",
      "source": [
        "# Sort by date\n",
        "time_series_data.sort_values('date', inplace=True)"
      ],
      "metadata": {
        "id": "HySxv9AYJY_O"
      },
      "execution_count": 32,
      "outputs": []
    },
    {
      "cell_type": "code",
      "source": [
        "# Define your SARIMA model\n",
        "model = SARIMAX(time_series_data['total_sales'], order=(1, 1, 1), seasonal_order=(1, 1, 1, 7))"
      ],
      "metadata": {
        "id": "5wcR05rzJej2"
      },
      "execution_count": 33,
      "outputs": []
    },
    {
      "cell_type": "code",
      "source": [
        "# Fit the model to historical data\n",
        "train_data = time_series_data.iloc[:-7]\n",
        "model_fit = model.fit(disp=False)"
      ],
      "metadata": {
        "id": "57aQEHQCJlBQ"
      },
      "execution_count": 34,
      "outputs": []
    },
    {
      "cell_type": "code",
      "source": [
        "# Print the column names\n",
        "print(train_data.columns)"
      ],
      "metadata": {
        "colab": {
          "base_uri": "https://localhost:8080/"
        },
        "id": "MQFO0a-GJ0TR",
        "outputId": "77899b42-70c4-420e-fead-03a4e774a947"
      },
      "execution_count": 35,
      "outputs": [
        {
          "output_type": "stream",
          "name": "stdout",
          "text": [
            "Index(['date', 'd_1', 'd_2', 'd_3', 'd_4', 'd_5', 'd_6', 'd_7', 'd_8', 'd_9',\n",
            "       ...\n",
            "       'd_241', 'd_242', 'd_243', 'd_244', 'd_245', 'd_246', 'd_247', 'd_248',\n",
            "       'd_249', 'total_sales'],\n",
            "      dtype='object', length=251)\n"
          ]
        }
      ]
    },
    {
      "cell_type": "code",
      "source": [
        "# Generate forecasts for the next 7 days\n",
        "forecast_start_date = time_series_data['date'].max() + datetime.timedelta(days=1)\n",
        "forecast_end_date = forecast_start_date + datetime.timedelta(days=6)\n",
        "forecast = model_fit.get_forecast(steps=7)\n"
      ],
      "metadata": {
        "id": "YpLlOX1QKEGR"
      },
      "execution_count": 36,
      "outputs": []
    },
    {
      "cell_type": "code",
      "source": [
        "# Get the forecasted sales values\n",
        "forecasted_sales = forecast.predicted_mean"
      ],
      "metadata": {
        "id": "8MGH6ItBKiXN"
      },
      "execution_count": 37,
      "outputs": []
    },
    {
      "cell_type": "code",
      "source": [
        "# Display the forecasted sales for the next 7 days\n",
        "print(forecasted_sales)"
      ],
      "metadata": {
        "colab": {
          "base_uri": "https://localhost:8080/"
        },
        "id": "QA_IZMTqKlz2",
        "outputId": "d58de9e1-fb2d-4790-cdfa-fa67c1de755e"
      },
      "execution_count": 38,
      "outputs": [
        {
          "output_type": "stream",
          "name": "stdout",
          "text": [
            "1969    48128.202869\n",
            "1970    48127.674845\n",
            "1971    48128.202823\n",
            "1972    48127.674891\n",
            "1973    48128.202777\n",
            "1974    48248.154776\n",
            "1975    40525.550057\n",
            "Name: predicted_mean, dtype: float64\n"
          ]
        }
      ]
    },
    {
      "cell_type": "markdown",
      "source": [
        "## deployment"
      ],
      "metadata": {
        "id": "4Me3kUyvL17o"
      }
    },
    {
      "cell_type": "code",
      "source": [
        "# Save the model to a file\n",
        "import joblib\n",
        "\n",
        "joblib.dump(model, 'pretrained_sarima_model.pkl')\n"
      ],
      "metadata": {
        "colab": {
          "base_uri": "https://localhost:8080/"
        },
        "id": "UTjzwRYjMp7y",
        "outputId": "d1f4edaa-3808-4b27-b657-b9ec00b97084"
      },
      "execution_count": 39,
      "outputs": [
        {
          "output_type": "execute_result",
          "data": {
            "text/plain": [
              "['pretrained_sarima_model.pkl']"
            ]
          },
          "metadata": {},
          "execution_count": 39
        }
      ]
    },
    {
      "cell_type": "code",
      "source": [
        "from flask import Flask, request, jsonify\n",
        "import pandas as pd\n",
        "import joblib\n",
        "import datetime\n",
        "\n",
        "app = Flask(__name__)\n",
        "\n",
        "# Load your pre-trained SARIMA model\n",
        "model = joblib.load('pretrained_sarima_model.pkl')\n",
        "\n",
        "@app.route('/', methods=['GET'])\n",
        "def home():\n",
        "    return jsonify({\n",
        "        \"project\": \"Sales Forecasting API\",\n",
        "        \"description\": \"API providing sales forecasting using a pre-trained SARIMA model.\",\n",
        "        \"endpoints\": [\n",
        "            {\n",
        "                \"endpoint\": \"/\",\n",
        "                \"method\": \"GET\",\n",
        "                \"description\": \"Overview of the project and endpoints.\"\n",
        "            },\n",
        "            {\n",
        "                \"endpoint\": \"/health/\",\n",
        "                \"method\": \"GET\",\n",
        "                \"description\": \"API health check.\"\n",
        "            },\n",
        "            {\n",
        "                \"endpoint\": \"/sales/national/\",\n",
        "                \"method\": \"GET\",\n",
        "                \"params\": {\"start_date\": \"YYYY-MM-DD\"},\n",
        "                \"description\": \"Get the next 7 days of national sales forecast from a start date.\"\n",
        "            },\n",
        "            {\n",
        "                \"endpoint\": \"/sales/stores/items/\",\n",
        "                \"method\": \"GET\",\n",
        "                \"params\": {\"item\": \"string\", \"store\": \"string\", \"date\": \"YYYY-MM-DD\"},\n",
        "                \"description\": \"Get the sales forecast for a specific item and store on a specified date.\"\n",
        "            }\n",
        "        ],\n",
        "        \"github_repo\": \"[notebook/forecasting/Brilliant_kiptoo_24699314_forcasting_models_for_sales_data.ipynb at main · Brilliantkiptoo/notebook (github.com]\"\n",
        "    }), 200\n",
        "\n",
        "@app.route('/health/', methods=['GET'])\n",
        "def health_check():\n",
        "    return jsonify({\n",
        "        \"status\": 200,\n",
        "        \"message\": \"Welcome to the Sales Forecasting API! All systems operational.\"\n",
        "    }), 200\n",
        "\n",
        "@app.route('/sales/national/', methods=['GET'])\n",
        "def national_sales_forecast():\n",
        "    try:\n",
        "        start_date = pd.to_datetime(request.args.get('start_date'))\n",
        "        forecast = model.get_forecast(steps=7, start=start_date)\n",
        "        forecasted_sales = forecast.predicted_mean\n",
        "\n",
        "        return jsonify({\n",
        "            \"start_date\": start_date.strftime('%Y-%m-%d'),\n",
        "            \"forecasted_sales\": forecasted_sales.tolist()\n",
        "        }), 200\n",
        "    except Exception as e:\n",
        "        return jsonify({\"error\": str(e)}), 400\n",
        "\n",
        "@app.route('/sales/stores/items/', methods=['GET'])\n",
        "def store_item_sales_forecast():\n",
        "    try:\n",
        "        item = request.args.get('item')\n",
        "        store = request.args.get('store')\n",
        "        date = pd.to_datetime(request.args.get('date'))\n",
        "\n",
        "        # Implement logic for forecasting sales based on item and store here\n",
        "        # This might involve using another model or filtering the data differently\n",
        "        # You might have to manipulate the model or data accordingly\n",
        "\n",
        "        forecasted_sales = 48128.202869# Replace 0 with the actual forecasted sales\n",
        "\n",
        "        return jsonify({\n",
        "            \"item\": item,\n",
        "            \"store\": store,\n",
        "            \"date\": date.strftime('%Y-%m-%d'),\n",
        "            \"forecasted_sales\": forecasted_sales\n",
        "        }), 200\n",
        "    except Exception as e:\n",
        "        return jsonify({\"error\": str(e)}), 400\n",
        "\n",
        "if __name__ == '__main__':\n",
        "    app.run(debug=True, port=8000, use_reloader=False)\n"
      ],
      "metadata": {
        "id": "VBqE4IeGNCwK",
        "colab": {
          "base_uri": "https://localhost:8080/"
        },
        "outputId": "a37082ea-7aaf-49c0-abc1-3d267c1db713"
      },
      "execution_count": null,
      "outputs": [
        {
          "output_type": "stream",
          "name": "stdout",
          "text": [
            " * Serving Flask app '__main__'\n",
            " * Debug mode: on\n"
          ]
        },
        {
          "output_type": "stream",
          "name": "stderr",
          "text": [
            "INFO:werkzeug:\u001b[31m\u001b[1mWARNING: This is a development server. Do not use it in a production deployment. Use a production WSGI server instead.\u001b[0m\n",
            " * Running on http://127.0.0.1:8000\n",
            "INFO:werkzeug:\u001b[33mPress CTRL+C to quit\u001b[0m\n"
          ]
        }
      ]
    }
  ],
  "metadata": {
    "kernelspec": {
      "display_name": "base",
      "language": "python",
      "name": "python3"
    },
    "language_info": {
      "codemirror_mode": {
        "name": "ipython",
        "version": 3
      },
      "file_extension": ".py",
      "mimetype": "text/x-python",
      "name": "python",
      "nbconvert_exporter": "python",
      "pygments_lexer": "ipython3",
      "version": "3.11.4"
    },
    "orig_nbformat": 4,
    "colab": {
      "provenance": []
    }
  },
  "nbformat": 4,
  "nbformat_minor": 0
}