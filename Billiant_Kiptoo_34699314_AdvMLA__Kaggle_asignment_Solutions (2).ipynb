{
  "cells": [
    {
      "cell_type": "markdown",
      "metadata": {
        "id": "uQ6wc2HE0pke"
      },
      "source": [
        "# **Lab: ML Engineering**\n",
        "\n"
      ]
    },
    {
      "cell_type": "markdown",
      "metadata": {
        "id": "tQgxLRrvjiJb"
      },
      "source": [
        "## Exercise 2: EDA and Baseline Model\n",
        "\n",
        "In this exercise we will start our data science project by preparing the dataset for modeling\n",
        "\n",
        "**Pre-requisites:**\n",
        "- Create a github account (https://github.com/join)\n",
        "- Install git (https://git-scm.com/book/en/v2/Getting-Started-Installing-Git)\n",
        "- Install pyenv (https://realpython.com/lessons/installing-pyenv/)\n",
        "- Install poetry (https://python-poetry.org/docs/#installation)\n",
        "- Install Wget for Windows users (https://eternallybored.org/misc/wget/)\n",
        "\n",
        "The steps are:\n",
        "1.   Setup Environment\n",
        "2.   Load and explore dataset\n",
        "3.   Prepare Data\n",
        "4.   Split Dataset\n",
        "5.   Get Baseline model\n",
        "6.   Push changes\n"
      ]
    },
    {
      "cell_type": "markdown",
      "metadata": {
        "id": "_NCwQQFkU3v5"
      },
      "source": [
        "## 1. Setup Environment"
      ]
    },
    {
      "cell_type": "markdown",
      "metadata": {
        "id": "44KEKHXYmkZx"
      },
      "source": [
        " Launch Jupyter Lab from your virtual environment"
      ]
    },
    {
      "cell_type": "code",
      "execution_count": 206,
      "metadata": {
        "id": "5Bfg00PomklG",
        "colab": {
          "base_uri": "https://localhost:8080/"
        },
        "outputId": "3a36522f-a448-468c-aef0-982f3425b9f1"
      },
      "outputs": [
        {
          "output_type": "stream",
          "name": "stdout",
          "text": [
            "Requirement already satisfied: poetry in /usr/local/lib/python3.10/dist-packages (1.5.1)\n",
            "Requirement already satisfied: build<0.11.0,>=0.10.0 in /usr/local/lib/python3.10/dist-packages (from poetry) (0.10.0)\n",
            "Requirement already satisfied: cachecontrol[filecache]<0.13.0,>=0.12.9 in /usr/local/lib/python3.10/dist-packages (from poetry) (0.12.14)\n",
            "Requirement already satisfied: cleo<3.0.0,>=2.0.0 in /usr/local/lib/python3.10/dist-packages (from poetry) (2.0.1)\n",
            "Requirement already satisfied: crashtest<0.5.0,>=0.4.1 in /usr/local/lib/python3.10/dist-packages (from poetry) (0.4.1)\n",
            "Requirement already satisfied: dulwich<0.22.0,>=0.21.2 in /usr/local/lib/python3.10/dist-packages (from poetry) (0.21.5)\n",
            "Requirement already satisfied: filelock<4.0.0,>=3.8.0 in /usr/local/lib/python3.10/dist-packages (from poetry) (3.12.2)\n",
            "Requirement already satisfied: html5lib<2.0,>=1.0 in /usr/local/lib/python3.10/dist-packages (from poetry) (1.1)\n",
            "Requirement already satisfied: installer<0.8.0,>=0.7.0 in /usr/local/lib/python3.10/dist-packages (from poetry) (0.7.0)\n",
            "Requirement already satisfied: jsonschema<5.0.0,>=4.10.0 in /usr/local/lib/python3.10/dist-packages (from poetry) (4.19.0)\n",
            "Requirement already satisfied: keyring<24.0.0,>=23.9.0 in /usr/local/lib/python3.10/dist-packages (from poetry) (23.13.1)\n",
            "Requirement already satisfied: lockfile<0.13.0,>=0.12.2 in /usr/local/lib/python3.10/dist-packages (from poetry) (0.12.2)\n",
            "Requirement already satisfied: packaging>=20.4 in /usr/local/lib/python3.10/dist-packages (from poetry) (23.1)\n",
            "Requirement already satisfied: pexpect<5.0.0,>=4.7.0 in /usr/local/lib/python3.10/dist-packages (from poetry) (4.8.0)\n",
            "Requirement already satisfied: pkginfo<2.0.0,>=1.9.4 in /usr/local/lib/python3.10/dist-packages (from poetry) (1.9.6)\n",
            "Requirement already satisfied: platformdirs<4.0.0,>=3.0.0 in /usr/local/lib/python3.10/dist-packages (from poetry) (3.10.0)\n",
            "Requirement already satisfied: poetry-core==1.6.1 in /usr/local/lib/python3.10/dist-packages (from poetry) (1.6.1)\n",
            "Requirement already satisfied: poetry-plugin-export<2.0.0,>=1.4.0 in /usr/local/lib/python3.10/dist-packages (from poetry) (1.4.0)\n",
            "Requirement already satisfied: pyproject-hooks<2.0.0,>=1.0.0 in /usr/local/lib/python3.10/dist-packages (from poetry) (1.0.0)\n",
            "Requirement already satisfied: requests<3.0,>=2.18 in /usr/local/lib/python3.10/dist-packages (from poetry) (2.31.0)\n",
            "Requirement already satisfied: requests-toolbelt<2,>=0.9.1 in /usr/local/lib/python3.10/dist-packages (from poetry) (1.0.0)\n",
            "Requirement already satisfied: shellingham<2.0,>=1.5 in /usr/local/lib/python3.10/dist-packages (from poetry) (1.5.3)\n",
            "Requirement already satisfied: tomli<3.0.0,>=2.0.1 in /usr/local/lib/python3.10/dist-packages (from poetry) (2.0.1)\n",
            "Requirement already satisfied: tomlkit<1.0.0,>=0.11.4 in /usr/local/lib/python3.10/dist-packages (from poetry) (0.12.1)\n",
            "Requirement already satisfied: trove-classifiers>=2022.5.19 in /usr/local/lib/python3.10/dist-packages (from poetry) (2023.8.7)\n",
            "Requirement already satisfied: urllib3<2.0.0,>=1.26.0 in /usr/local/lib/python3.10/dist-packages (from poetry) (1.26.16)\n",
            "Requirement already satisfied: virtualenv<21.0.0,>=20.22.0 in /usr/local/lib/python3.10/dist-packages (from poetry) (20.24.3)\n",
            "Requirement already satisfied: msgpack>=0.5.2 in /usr/local/lib/python3.10/dist-packages (from cachecontrol[filecache]<0.13.0,>=0.12.9->poetry) (1.0.5)\n",
            "Requirement already satisfied: rapidfuzz<3.0.0,>=2.2.0 in /usr/local/lib/python3.10/dist-packages (from cleo<3.0.0,>=2.0.0->poetry) (2.15.1)\n",
            "Requirement already satisfied: six>=1.9 in /usr/local/lib/python3.10/dist-packages (from html5lib<2.0,>=1.0->poetry) (1.16.0)\n",
            "Requirement already satisfied: webencodings in /usr/local/lib/python3.10/dist-packages (from html5lib<2.0,>=1.0->poetry) (0.5.1)\n",
            "Requirement already satisfied: attrs>=22.2.0 in /usr/local/lib/python3.10/dist-packages (from jsonschema<5.0.0,>=4.10.0->poetry) (23.1.0)\n",
            "Requirement already satisfied: jsonschema-specifications>=2023.03.6 in /usr/local/lib/python3.10/dist-packages (from jsonschema<5.0.0,>=4.10.0->poetry) (2023.7.1)\n",
            "Requirement already satisfied: referencing>=0.28.4 in /usr/local/lib/python3.10/dist-packages (from jsonschema<5.0.0,>=4.10.0->poetry) (0.30.2)\n",
            "Requirement already satisfied: rpds-py>=0.7.1 in /usr/local/lib/python3.10/dist-packages (from jsonschema<5.0.0,>=4.10.0->poetry) (0.9.2)\n",
            "Requirement already satisfied: jaraco.classes in /usr/local/lib/python3.10/dist-packages (from keyring<24.0.0,>=23.9.0->poetry) (3.3.0)\n",
            "Requirement already satisfied: importlib-metadata>=4.11.4 in /usr/local/lib/python3.10/dist-packages (from keyring<24.0.0,>=23.9.0->poetry) (6.8.0)\n",
            "Requirement already satisfied: SecretStorage>=3.2 in /usr/lib/python3/dist-packages (from keyring<24.0.0,>=23.9.0->poetry) (3.3.1)\n",
            "Requirement already satisfied: jeepney>=0.4.2 in /usr/lib/python3/dist-packages (from keyring<24.0.0,>=23.9.0->poetry) (0.7.1)\n",
            "Requirement already satisfied: ptyprocess>=0.5 in /usr/local/lib/python3.10/dist-packages (from pexpect<5.0.0,>=4.7.0->poetry) (0.7.0)\n",
            "Requirement already satisfied: charset-normalizer<4,>=2 in /usr/local/lib/python3.10/dist-packages (from requests<3.0,>=2.18->poetry) (3.2.0)\n",
            "Requirement already satisfied: idna<4,>=2.5 in /usr/local/lib/python3.10/dist-packages (from requests<3.0,>=2.18->poetry) (3.4)\n",
            "Requirement already satisfied: certifi>=2017.4.17 in /usr/local/lib/python3.10/dist-packages (from requests<3.0,>=2.18->poetry) (2023.7.22)\n",
            "Requirement already satisfied: distlib<1,>=0.3.7 in /usr/local/lib/python3.10/dist-packages (from virtualenv<21.0.0,>=20.22.0->poetry) (0.3.7)\n",
            "Requirement already satisfied: zipp>=0.5 in /usr/local/lib/python3.10/dist-packages (from importlib-metadata>=4.11.4->keyring<24.0.0,>=23.9.0->poetry) (3.16.2)\n",
            "Requirement already satisfied: more-itertools in /usr/local/lib/python3.10/dist-packages (from jaraco.classes->keyring<24.0.0,>=23.9.0->poetry) (10.1.0)\n"
          ]
        }
      ],
      "source": [
        "#Solution:\n",
        "!pip install poetry\n"
      ]
    },
    {
      "cell_type": "markdown",
      "source": [
        "create virtual environment"
      ],
      "metadata": {
        "id": "Vq68I2NVmeHt"
      }
    },
    {
      "cell_type": "code",
      "source": [
        "!pip install numpy pandas matplotlib"
      ],
      "metadata": {
        "colab": {
          "base_uri": "https://localhost:8080/"
        },
        "id": "stUJujqCrdSw",
        "outputId": "d913cc5b-fc48-43d9-a557-1daed1f787a7"
      },
      "execution_count": 207,
      "outputs": [
        {
          "output_type": "stream",
          "name": "stdout",
          "text": [
            "Requirement already satisfied: numpy in /usr/local/lib/python3.10/dist-packages (1.23.5)\n",
            "Requirement already satisfied: pandas in /usr/local/lib/python3.10/dist-packages (1.5.3)\n",
            "Requirement already satisfied: matplotlib in /usr/local/lib/python3.10/dist-packages (3.7.1)\n",
            "Requirement already satisfied: python-dateutil>=2.8.1 in /usr/local/lib/python3.10/dist-packages (from pandas) (2.8.2)\n",
            "Requirement already satisfied: pytz>=2020.1 in /usr/local/lib/python3.10/dist-packages (from pandas) (2023.3)\n",
            "Requirement already satisfied: contourpy>=1.0.1 in /usr/local/lib/python3.10/dist-packages (from matplotlib) (1.1.0)\n",
            "Requirement already satisfied: cycler>=0.10 in /usr/local/lib/python3.10/dist-packages (from matplotlib) (0.11.0)\n",
            "Requirement already satisfied: fonttools>=4.22.0 in /usr/local/lib/python3.10/dist-packages (from matplotlib) (4.42.0)\n",
            "Requirement already satisfied: kiwisolver>=1.0.1 in /usr/local/lib/python3.10/dist-packages (from matplotlib) (1.4.4)\n",
            "Requirement already satisfied: packaging>=20.0 in /usr/local/lib/python3.10/dist-packages (from matplotlib) (23.1)\n",
            "Requirement already satisfied: pillow>=6.2.0 in /usr/local/lib/python3.10/dist-packages (from matplotlib) (9.4.0)\n",
            "Requirement already satisfied: pyparsing>=2.3.1 in /usr/local/lib/python3.10/dist-packages (from matplotlib) (3.1.1)\n",
            "Requirement already satisfied: six>=1.5 in /usr/local/lib/python3.10/dist-packages (from python-dateutil>=2.8.1->pandas) (1.16.0)\n"
          ]
        }
      ]
    },
    {
      "cell_type": "markdown",
      "source": [
        "Installing and starting Jupiter lab"
      ],
      "metadata": {
        "id": "VZrZn1zKnG69"
      }
    },
    {
      "cell_type": "code",
      "source": [
        "!poetry add jupyterlab\n",
        "!poetry install\n",
        "!poetry run jupyter lab"
      ],
      "metadata": {
        "colab": {
          "base_uri": "https://localhost:8080/"
        },
        "id": "LLIHaNnbmv0E",
        "outputId": "29670536-3845-4a91-e404-6470e5c6e5f5"
      },
      "execution_count": 208,
      "outputs": [
        {
          "output_type": "stream",
          "name": "stdout",
          "text": [
            "\n",
            "\u001b[31;1mPoetry could not find a pyproject.toml file in /content or its parents\u001b[39;22m\n",
            "\n",
            "\u001b[31;1mPoetry could not find a pyproject.toml file in /content or its parents\u001b[39;22m\n",
            "\n",
            "\u001b[31;1mPoetry could not find a pyproject.toml file in /content or its parents\u001b[39;22m\n"
          ]
        }
      ]
    },
    {
      "cell_type": "code",
      "source": [
        "!jupyter lab"
      ],
      "metadata": {
        "colab": {
          "base_uri": "https://localhost:8080/"
        },
        "id": "fTd9igLFrlff",
        "outputId": "51285c25-a24e-4d19-a734-3aa1b8a5d3f6"
      },
      "execution_count": 209,
      "outputs": [
        {
          "output_type": "stream",
          "name": "stdout",
          "text": [
            "usage: jupyter\n",
            "       [-h]\n",
            "       [--version]\n",
            "       [--config-dir]\n",
            "       [--data-dir]\n",
            "       [--runtime-dir]\n",
            "       [--paths]\n",
            "       [--json]\n",
            "       [--debug]\n",
            "       [subcommand]\n",
            "\n",
            "Jupyter:\n",
            "Interactive\n",
            "Computing\n",
            "\n",
            "positional arguments:\n",
            "  subcommand\n",
            "    the\n",
            "    subcommand\n",
            "    to launch\n",
            "\n",
            "options:\n",
            "  -h, --help\n",
            "    show this\n",
            "    help\n",
            "    message and\n",
            "    exit\n",
            "  --version\n",
            "    show the\n",
            "    versions of\n",
            "    core\n",
            "    jupyter\n",
            "    packages\n",
            "    and exit\n",
            "  --config-dir\n",
            "    show\n",
            "    Jupyter\n",
            "    config dir\n",
            "  --data-dir\n",
            "    show\n",
            "    Jupyter\n",
            "    data dir\n",
            "  --runtime-dir\n",
            "    show\n",
            "    Jupyter\n",
            "    runtime dir\n",
            "  --paths\n",
            "    show all\n",
            "    Jupyter\n",
            "    paths. Add\n",
            "    --json for\n",
            "    machine-\n",
            "    readable\n",
            "    format.\n",
            "  --json\n",
            "    output\n",
            "    paths as\n",
            "    machine-\n",
            "    readable\n",
            "    json\n",
            "  --debug\n",
            "    output\n",
            "    debug\n",
            "    information\n",
            "    about paths\n",
            "\n",
            "Available s\n",
            "ubcommands:\n",
            "bundlerexte\n",
            "nsion\n",
            "console\n",
            "dejavu\n",
            "execute\n",
            "kernel\n",
            "kernelspec\n",
            "migrate\n",
            "nbclassic\n",
            "nbconvert\n",
            "nbextension\n",
            "notebook\n",
            "run server \n",
            "serverexten\n",
            "sion troubl\n",
            "eshoot\n",
            "trust\n",
            "\n",
            "Jupyter command `jupyter-lab` not found.\n"
          ]
        }
      ]
    },
    {
      "cell_type": "markdown",
      "metadata": {
        "id": "i0-NkSgfZDLx"
      },
      "source": [
        "\n",
        "## 2. Load and Explore Dataset\n",
        "\n"
      ]
    },
    {
      "cell_type": "markdown",
      "metadata": {
        "id": "ZKpy4XYth-Ie"
      },
      "source": [
        " Launch magic commands to automatically reload modules"
      ]
    },
    {
      "cell_type": "code",
      "execution_count": 210,
      "metadata": {
        "id": "py2Wrp6Zh-QG",
        "colab": {
          "base_uri": "https://localhost:8080/"
        },
        "outputId": "72970b98-9ea9-4d15-b854-5aaaeecf29b3"
      },
      "outputs": [
        {
          "output_type": "stream",
          "name": "stdout",
          "text": [
            "The autoreload extension is already loaded. To reload it, use:\n",
            "  %reload_ext autoreload\n"
          ]
        }
      ],
      "source": [
        "%load_ext autoreload\n",
        "%autoreload 2"
      ]
    },
    {
      "cell_type": "markdown",
      "metadata": {
        "id": "4JI0kZJxpkoK"
      },
      "source": [
        "Import the pandas and numpy package"
      ]
    },
    {
      "cell_type": "code",
      "execution_count": 211,
      "metadata": {
        "id": "1sXpjWA8pz0q"
      },
      "outputs": [],
      "source": [
        "# Solution\n",
        "import pandas as pd\n",
        "import numpy as np\n",
        "import pandas as pd\n",
        "import numpy as np\n",
        "from sklearn.model_selection import train_test_split\n",
        "from sklearn.preprocessing import StandardScaler\n",
        "from sklearn.ensemble import RandomForestClassifier\n",
        "from sklearn.metrics import roc_auc_score"
      ]
    },
    {
      "cell_type": "markdown",
      "metadata": {
        "id": "R-Zy6Oq8pkuB"
      },
      "source": [
        "Load the dataset into dataframe called df"
      ]
    },
    {
      "cell_type": "code",
      "execution_count": 212,
      "metadata": {
        "id": "ulxGw0rxrwt-",
        "colab": {
          "base_uri": "https://localhost:8080/"
        },
        "outputId": "ed2d179a-2048-4103-fd51-bd2daf4869da"
      },
      "outputs": [
        {
          "output_type": "stream",
          "name": "stderr",
          "text": [
            "<ipython-input-212-9d0a0a13c0f7>:2: DtypeWarning: Columns (26) have mixed types. Specify dtype option on import or set low_memory=False.\n",
            "  df = pd.read_csv('/content/train.csv')\n"
          ]
        }
      ],
      "source": [
        "#Solution:\n",
        "df = pd.read_csv('/content/train.csv')\n",
        "train_data = pd.read_csv(\"/content/train.csv\", low_memory=False)\n",
        "test_data = pd.read_csv(\"/content/test.csv\")"
      ]
    },
    {
      "cell_type": "code",
      "execution_count": 213,
      "metadata": {
        "id": "ZtwZkUUksxCP",
        "outputId": "70b65bb5-c1be-4964-c463-e6590d4678a5",
        "colab": {
          "base_uri": "https://localhost:8080/",
          "height": 499
        }
      },
      "outputs": [
        {
          "output_type": "execute_result",
          "data": {
            "text/plain": [
              "            team conf  GP  Min_per   Ortg   usg   eFG  TS_per  ORB_per  \\\n",
              "0  South Alabama   SB  26     29.5   97.3  16.6  42.5   44.43      1.6   \n",
              "1       Utah St.  WAC  34     60.9  108.3  14.9  52.4   54.48      3.8   \n",
              "2  South Florida   BE  27     72.0   96.2  21.8  45.7   47.98      2.1   \n",
              "3     Pepperdine  WCC  30     44.5   97.7  16.0  53.6   53.69      4.1   \n",
              "4        Pacific   BW  33     56.2   96.5  22.0  52.8   54.31      8.3   \n",
              "\n",
              "   DRB_per  ...     dgbpm    oreb    dreb    treb     ast     stl     blk  \\\n",
              "0      4.6  ... -1.941150  0.1923  0.6154  0.8077  1.1923  0.3462  0.0385   \n",
              "1      6.3  ... -0.247934  0.6765  1.2647  1.9412  1.8235  0.4118  0.2353   \n",
              "2      8.0  ... -0.883163  0.6296  2.3333  2.9630  1.9630  0.4815  0.0000   \n",
              "3      9.4  ... -0.393459  0.7000  1.4333  2.1333  1.1000  0.5667  0.1333   \n",
              "4     18.6  ... -0.668318  1.4242  3.3030  4.7273  0.8485  0.4545  0.3333   \n",
              "\n",
              "       pts                             player_id  drafted  \n",
              "0   3.8846  7be2aead-da4e-4d13-a74b-4c1e692e2368      0.0  \n",
              "1   5.9412  61de55d9-1582-4ea4-b593-44f6aa6524a6      0.0  \n",
              "2  12.1852  efdc4cfc-9dd0-4bf8-acef-7273e4d5b655      0.0  \n",
              "3   4.9333  14f05660-bb3c-4868-b3dd-09bcdb64279d      0.0  \n",
              "4   7.5758  a58db52f-fbba-4e7b-83d0-371efcfed039      0.0  \n",
              "\n",
              "[5 rows x 64 columns]"
            ],
            "text/html": [
              "\n",
              "  <div id=\"df-54925e3b-2505-4bf0-93ae-62c66a363eee\" class=\"colab-df-container\">\n",
              "    <div>\n",
              "<style scoped>\n",
              "    .dataframe tbody tr th:only-of-type {\n",
              "        vertical-align: middle;\n",
              "    }\n",
              "\n",
              "    .dataframe tbody tr th {\n",
              "        vertical-align: top;\n",
              "    }\n",
              "\n",
              "    .dataframe thead th {\n",
              "        text-align: right;\n",
              "    }\n",
              "</style>\n",
              "<table border=\"1\" class=\"dataframe\">\n",
              "  <thead>\n",
              "    <tr style=\"text-align: right;\">\n",
              "      <th></th>\n",
              "      <th>team</th>\n",
              "      <th>conf</th>\n",
              "      <th>GP</th>\n",
              "      <th>Min_per</th>\n",
              "      <th>Ortg</th>\n",
              "      <th>usg</th>\n",
              "      <th>eFG</th>\n",
              "      <th>TS_per</th>\n",
              "      <th>ORB_per</th>\n",
              "      <th>DRB_per</th>\n",
              "      <th>...</th>\n",
              "      <th>dgbpm</th>\n",
              "      <th>oreb</th>\n",
              "      <th>dreb</th>\n",
              "      <th>treb</th>\n",
              "      <th>ast</th>\n",
              "      <th>stl</th>\n",
              "      <th>blk</th>\n",
              "      <th>pts</th>\n",
              "      <th>player_id</th>\n",
              "      <th>drafted</th>\n",
              "    </tr>\n",
              "  </thead>\n",
              "  <tbody>\n",
              "    <tr>\n",
              "      <th>0</th>\n",
              "      <td>South Alabama</td>\n",
              "      <td>SB</td>\n",
              "      <td>26</td>\n",
              "      <td>29.5</td>\n",
              "      <td>97.3</td>\n",
              "      <td>16.6</td>\n",
              "      <td>42.5</td>\n",
              "      <td>44.43</td>\n",
              "      <td>1.6</td>\n",
              "      <td>4.6</td>\n",
              "      <td>...</td>\n",
              "      <td>-1.941150</td>\n",
              "      <td>0.1923</td>\n",
              "      <td>0.6154</td>\n",
              "      <td>0.8077</td>\n",
              "      <td>1.1923</td>\n",
              "      <td>0.3462</td>\n",
              "      <td>0.0385</td>\n",
              "      <td>3.8846</td>\n",
              "      <td>7be2aead-da4e-4d13-a74b-4c1e692e2368</td>\n",
              "      <td>0.0</td>\n",
              "    </tr>\n",
              "    <tr>\n",
              "      <th>1</th>\n",
              "      <td>Utah St.</td>\n",
              "      <td>WAC</td>\n",
              "      <td>34</td>\n",
              "      <td>60.9</td>\n",
              "      <td>108.3</td>\n",
              "      <td>14.9</td>\n",
              "      <td>52.4</td>\n",
              "      <td>54.48</td>\n",
              "      <td>3.8</td>\n",
              "      <td>6.3</td>\n",
              "      <td>...</td>\n",
              "      <td>-0.247934</td>\n",
              "      <td>0.6765</td>\n",
              "      <td>1.2647</td>\n",
              "      <td>1.9412</td>\n",
              "      <td>1.8235</td>\n",
              "      <td>0.4118</td>\n",
              "      <td>0.2353</td>\n",
              "      <td>5.9412</td>\n",
              "      <td>61de55d9-1582-4ea4-b593-44f6aa6524a6</td>\n",
              "      <td>0.0</td>\n",
              "    </tr>\n",
              "    <tr>\n",
              "      <th>2</th>\n",
              "      <td>South Florida</td>\n",
              "      <td>BE</td>\n",
              "      <td>27</td>\n",
              "      <td>72.0</td>\n",
              "      <td>96.2</td>\n",
              "      <td>21.8</td>\n",
              "      <td>45.7</td>\n",
              "      <td>47.98</td>\n",
              "      <td>2.1</td>\n",
              "      <td>8.0</td>\n",
              "      <td>...</td>\n",
              "      <td>-0.883163</td>\n",
              "      <td>0.6296</td>\n",
              "      <td>2.3333</td>\n",
              "      <td>2.9630</td>\n",
              "      <td>1.9630</td>\n",
              "      <td>0.4815</td>\n",
              "      <td>0.0000</td>\n",
              "      <td>12.1852</td>\n",
              "      <td>efdc4cfc-9dd0-4bf8-acef-7273e4d5b655</td>\n",
              "      <td>0.0</td>\n",
              "    </tr>\n",
              "    <tr>\n",
              "      <th>3</th>\n",
              "      <td>Pepperdine</td>\n",
              "      <td>WCC</td>\n",
              "      <td>30</td>\n",
              "      <td>44.5</td>\n",
              "      <td>97.7</td>\n",
              "      <td>16.0</td>\n",
              "      <td>53.6</td>\n",
              "      <td>53.69</td>\n",
              "      <td>4.1</td>\n",
              "      <td>9.4</td>\n",
              "      <td>...</td>\n",
              "      <td>-0.393459</td>\n",
              "      <td>0.7000</td>\n",
              "      <td>1.4333</td>\n",
              "      <td>2.1333</td>\n",
              "      <td>1.1000</td>\n",
              "      <td>0.5667</td>\n",
              "      <td>0.1333</td>\n",
              "      <td>4.9333</td>\n",
              "      <td>14f05660-bb3c-4868-b3dd-09bcdb64279d</td>\n",
              "      <td>0.0</td>\n",
              "    </tr>\n",
              "    <tr>\n",
              "      <th>4</th>\n",
              "      <td>Pacific</td>\n",
              "      <td>BW</td>\n",
              "      <td>33</td>\n",
              "      <td>56.2</td>\n",
              "      <td>96.5</td>\n",
              "      <td>22.0</td>\n",
              "      <td>52.8</td>\n",
              "      <td>54.31</td>\n",
              "      <td>8.3</td>\n",
              "      <td>18.6</td>\n",
              "      <td>...</td>\n",
              "      <td>-0.668318</td>\n",
              "      <td>1.4242</td>\n",
              "      <td>3.3030</td>\n",
              "      <td>4.7273</td>\n",
              "      <td>0.8485</td>\n",
              "      <td>0.4545</td>\n",
              "      <td>0.3333</td>\n",
              "      <td>7.5758</td>\n",
              "      <td>a58db52f-fbba-4e7b-83d0-371efcfed039</td>\n",
              "      <td>0.0</td>\n",
              "    </tr>\n",
              "  </tbody>\n",
              "</table>\n",
              "<p>5 rows × 64 columns</p>\n",
              "</div>\n",
              "    <div class=\"colab-df-buttons\">\n",
              "\n",
              "  <div class=\"colab-df-container\">\n",
              "    <button class=\"colab-df-convert\" onclick=\"convertToInteractive('df-54925e3b-2505-4bf0-93ae-62c66a363eee')\"\n",
              "            title=\"Convert this dataframe to an interactive table.\"\n",
              "            style=\"display:none;\">\n",
              "\n",
              "  <svg xmlns=\"http://www.w3.org/2000/svg\" height=\"24px\" viewBox=\"0 -960 960 960\">\n",
              "    <path d=\"M120-120v-720h720v720H120Zm60-500h600v-160H180v160Zm220 220h160v-160H400v160Zm0 220h160v-160H400v160ZM180-400h160v-160H180v160Zm440 0h160v-160H620v160ZM180-180h160v-160H180v160Zm440 0h160v-160H620v160Z\"/>\n",
              "  </svg>\n",
              "    </button>\n",
              "\n",
              "  <style>\n",
              "    .colab-df-container {\n",
              "      display:flex;\n",
              "      gap: 12px;\n",
              "    }\n",
              "\n",
              "    .colab-df-convert {\n",
              "      background-color: #E8F0FE;\n",
              "      border: none;\n",
              "      border-radius: 50%;\n",
              "      cursor: pointer;\n",
              "      display: none;\n",
              "      fill: #1967D2;\n",
              "      height: 32px;\n",
              "      padding: 0 0 0 0;\n",
              "      width: 32px;\n",
              "    }\n",
              "\n",
              "    .colab-df-convert:hover {\n",
              "      background-color: #E2EBFA;\n",
              "      box-shadow: 0px 1px 2px rgba(60, 64, 67, 0.3), 0px 1px 3px 1px rgba(60, 64, 67, 0.15);\n",
              "      fill: #174EA6;\n",
              "    }\n",
              "\n",
              "    .colab-df-buttons div {\n",
              "      margin-bottom: 4px;\n",
              "    }\n",
              "\n",
              "    [theme=dark] .colab-df-convert {\n",
              "      background-color: #3B4455;\n",
              "      fill: #D2E3FC;\n",
              "    }\n",
              "\n",
              "    [theme=dark] .colab-df-convert:hover {\n",
              "      background-color: #434B5C;\n",
              "      box-shadow: 0px 1px 3px 1px rgba(0, 0, 0, 0.15);\n",
              "      filter: drop-shadow(0px 1px 2px rgba(0, 0, 0, 0.3));\n",
              "      fill: #FFFFFF;\n",
              "    }\n",
              "  </style>\n",
              "\n",
              "    <script>\n",
              "      const buttonEl =\n",
              "        document.querySelector('#df-54925e3b-2505-4bf0-93ae-62c66a363eee button.colab-df-convert');\n",
              "      buttonEl.style.display =\n",
              "        google.colab.kernel.accessAllowed ? 'block' : 'none';\n",
              "\n",
              "      async function convertToInteractive(key) {\n",
              "        const element = document.querySelector('#df-54925e3b-2505-4bf0-93ae-62c66a363eee');\n",
              "        const dataTable =\n",
              "          await google.colab.kernel.invokeFunction('convertToInteractive',\n",
              "                                                    [key], {});\n",
              "        if (!dataTable) return;\n",
              "\n",
              "        const docLinkHtml = 'Like what you see? Visit the ' +\n",
              "          '<a target=\"_blank\" href=https://colab.research.google.com/notebooks/data_table.ipynb>data table notebook</a>'\n",
              "          + ' to learn more about interactive tables.';\n",
              "        element.innerHTML = '';\n",
              "        dataTable['output_type'] = 'display_data';\n",
              "        await google.colab.output.renderOutput(dataTable, element);\n",
              "        const docLink = document.createElement('div');\n",
              "        docLink.innerHTML = docLinkHtml;\n",
              "        element.appendChild(docLink);\n",
              "      }\n",
              "    </script>\n",
              "  </div>\n",
              "\n",
              "\n",
              "<div id=\"df-2411ff73-3941-4acd-9754-0736e08b50d9\">\n",
              "  <button class=\"colab-df-quickchart\" onclick=\"quickchart('df-2411ff73-3941-4acd-9754-0736e08b50d9')\"\n",
              "            title=\"Suggest charts.\"\n",
              "            style=\"display:none;\">\n",
              "\n",
              "<svg xmlns=\"http://www.w3.org/2000/svg\" height=\"24px\"viewBox=\"0 0 24 24\"\n",
              "     width=\"24px\">\n",
              "    <g>\n",
              "        <path d=\"M19 3H5c-1.1 0-2 .9-2 2v14c0 1.1.9 2 2 2h14c1.1 0 2-.9 2-2V5c0-1.1-.9-2-2-2zM9 17H7v-7h2v7zm4 0h-2V7h2v10zm4 0h-2v-4h2v4z\"/>\n",
              "    </g>\n",
              "</svg>\n",
              "  </button>\n",
              "\n",
              "<style>\n",
              "  .colab-df-quickchart {\n",
              "    background-color: #E8F0FE;\n",
              "    border: none;\n",
              "    border-radius: 50%;\n",
              "    cursor: pointer;\n",
              "    display: none;\n",
              "    fill: #1967D2;\n",
              "    height: 32px;\n",
              "    padding: 0 0 0 0;\n",
              "    width: 32px;\n",
              "  }\n",
              "\n",
              "  .colab-df-quickchart:hover {\n",
              "    background-color: #E2EBFA;\n",
              "    box-shadow: 0px 1px 2px rgba(60, 64, 67, 0.3), 0px 1px 3px 1px rgba(60, 64, 67, 0.15);\n",
              "    fill: #174EA6;\n",
              "  }\n",
              "\n",
              "  [theme=dark] .colab-df-quickchart {\n",
              "    background-color: #3B4455;\n",
              "    fill: #D2E3FC;\n",
              "  }\n",
              "\n",
              "  [theme=dark] .colab-df-quickchart:hover {\n",
              "    background-color: #434B5C;\n",
              "    box-shadow: 0px 1px 3px 1px rgba(0, 0, 0, 0.15);\n",
              "    filter: drop-shadow(0px 1px 2px rgba(0, 0, 0, 0.3));\n",
              "    fill: #FFFFFF;\n",
              "  }\n",
              "</style>\n",
              "\n",
              "  <script>\n",
              "    async function quickchart(key) {\n",
              "      const charts = await google.colab.kernel.invokeFunction(\n",
              "          'suggestCharts', [key], {});\n",
              "    }\n",
              "    (() => {\n",
              "      let quickchartButtonEl =\n",
              "        document.querySelector('#df-2411ff73-3941-4acd-9754-0736e08b50d9 button');\n",
              "      quickchartButtonEl.style.display =\n",
              "        google.colab.kernel.accessAllowed ? 'block' : 'none';\n",
              "    })();\n",
              "  </script>\n",
              "</div>\n",
              "    </div>\n",
              "  </div>\n"
            ]
          },
          "metadata": {},
          "execution_count": 213
        }
      ],
      "source": [
        "# Solution\n",
        "df.head()"
      ]
    },
    {
      "cell_type": "markdown",
      "metadata": {
        "id": "6zQ6t_6Es2F3"
      },
      "source": [
        " Display the dimensions (shape) of df"
      ]
    },
    {
      "cell_type": "code",
      "execution_count": 214,
      "metadata": {
        "id": "EzYCSDO4s2Zo",
        "outputId": "e99f3f54-888f-4d59-e1ff-14ef04c97e54",
        "colab": {
          "base_uri": "https://localhost:8080/"
        }
      },
      "outputs": [
        {
          "output_type": "execute_result",
          "data": {
            "text/plain": [
              "(56091, 64)"
            ]
          },
          "metadata": {},
          "execution_count": 214
        }
      ],
      "source": [
        "# Solution\n",
        "df.shape"
      ]
    },
    {
      "cell_type": "markdown",
      "metadata": {
        "id": "_M_vXlAhs-ic"
      },
      "source": [
        "Display the summary (info) of df"
      ]
    },
    {
      "cell_type": "code",
      "execution_count": 215,
      "metadata": {
        "id": "JYJuOJ3zs-qX",
        "outputId": "acb30124-da64-4d30-e3e3-46869dbac1ac",
        "colab": {
          "base_uri": "https://localhost:8080/"
        }
      },
      "outputs": [
        {
          "output_type": "stream",
          "name": "stdout",
          "text": [
            "<class 'pandas.core.frame.DataFrame'>\n",
            "RangeIndex: 56091 entries, 0 to 56090\n",
            "Data columns (total 64 columns):\n",
            " #   Column               Non-Null Count  Dtype  \n",
            "---  ------               --------------  -----  \n",
            " 0   team                 56091 non-null  object \n",
            " 1   conf                 56091 non-null  object \n",
            " 2   GP                   56091 non-null  int64  \n",
            " 3   Min_per              56091 non-null  float64\n",
            " 4   Ortg                 56091 non-null  float64\n",
            " 5   usg                  56091 non-null  float64\n",
            " 6   eFG                  56091 non-null  float64\n",
            " 7   TS_per               56091 non-null  float64\n",
            " 8   ORB_per              56091 non-null  float64\n",
            " 9   DRB_per              56091 non-null  float64\n",
            " 10  AST_per              56091 non-null  float64\n",
            " 11  TO_per               56091 non-null  float64\n",
            " 12  FTM                  56091 non-null  int64  \n",
            " 13  FTA                  56091 non-null  int64  \n",
            " 14  FT_per               56091 non-null  float64\n",
            " 15  twoPM                56091 non-null  int64  \n",
            " 16  twoPA                56091 non-null  int64  \n",
            " 17  twoP_per             56091 non-null  float64\n",
            " 18  TPM                  56091 non-null  int64  \n",
            " 19  TPA                  56091 non-null  int64  \n",
            " 20  TP_per               56091 non-null  float64\n",
            " 21  blk_per              56091 non-null  float64\n",
            " 22  stl_per              56091 non-null  float64\n",
            " 23  ftr                  56091 non-null  float64\n",
            " 24  yr                   55817 non-null  object \n",
            " 25  ht                   56011 non-null  object \n",
            " 26  num                  51422 non-null  object \n",
            " 27  porpag               56091 non-null  float64\n",
            " 28  adjoe                56091 non-null  float64\n",
            " 29  pfr                  56091 non-null  float64\n",
            " 30  year                 56091 non-null  int64  \n",
            " 31  type                 56091 non-null  object \n",
            " 32  Rec_Rank             17036 non-null  float64\n",
            " 33  ast_tov              51901 non-null  float64\n",
            " 34  rimmade              50010 non-null  float64\n",
            " 35  rimmade_rimmiss      50010 non-null  float64\n",
            " 36  midmade              50010 non-null  float64\n",
            " 37  midmade_midmiss      50010 non-null  float64\n",
            " 38  rim_ratio            46627 non-null  float64\n",
            " 39  mid_ratio            46403 non-null  float64\n",
            " 40  dunksmade            50010 non-null  float64\n",
            " 41  dunksmiss_dunksmade  50010 non-null  float64\n",
            " 42  dunks_ratio          25298 non-null  float64\n",
            " 43  pick                 1386 non-null   float64\n",
            " 44  drtg                 56047 non-null  float64\n",
            " 45  adrtg                56047 non-null  float64\n",
            " 46  dporpag              56047 non-null  float64\n",
            " 47  stops                56047 non-null  float64\n",
            " 48  bpm                  56047 non-null  float64\n",
            " 49  obpm                 56047 non-null  float64\n",
            " 50  dbpm                 56047 non-null  float64\n",
            " 51  gbpm                 56047 non-null  float64\n",
            " 52  mp                   56053 non-null  float64\n",
            " 53  ogbpm                56047 non-null  float64\n",
            " 54  dgbpm                56047 non-null  float64\n",
            " 55  oreb                 56053 non-null  float64\n",
            " 56  dreb                 56053 non-null  float64\n",
            " 57  treb                 56053 non-null  float64\n",
            " 58  ast                  56053 non-null  float64\n",
            " 59  stl                  56053 non-null  float64\n",
            " 60  blk                  56053 non-null  float64\n",
            " 61  pts                  56053 non-null  float64\n",
            " 62  player_id            56091 non-null  object \n",
            " 63  drafted              56091 non-null  float64\n",
            "dtypes: float64(49), int64(8), object(7)\n",
            "memory usage: 27.4+ MB\n"
          ]
        }
      ],
      "source": [
        "# Solution\n",
        "df.info()"
      ]
    },
    {
      "cell_type": "markdown",
      "metadata": {
        "id": "wuoUg5u6tHa0"
      },
      "source": [
        "Display the descriptive statistics of df\n"
      ]
    },
    {
      "cell_type": "code",
      "execution_count": 216,
      "metadata": {
        "id": "LrRcdf68tHmY",
        "outputId": "cbd6a111-b88c-4563-ac6f-2493f7ed3c27",
        "colab": {
          "base_uri": "https://localhost:8080/",
          "height": 496
        }
      },
      "outputs": [
        {
          "output_type": "execute_result",
          "data": {
            "text/plain": [
              "         team   conf            GP       Min_per          Ortg           usg  \\\n",
              "count   56091  56091  56091.000000  56091.000000  56091.000000  56091.000000   \n",
              "unique    358     36           NaN           NaN           NaN           NaN   \n",
              "top      Army    ACC           NaN           NaN           NaN           NaN   \n",
              "freq      209   2297           NaN           NaN           NaN           NaN   \n",
              "mean      NaN    NaN     23.411973     37.325229     91.858295     18.149265   \n",
              "std       NaN    NaN     10.090542     28.061897     30.538819      6.204489   \n",
              "min       NaN    NaN      1.000000      0.000000      0.000000      0.000000   \n",
              "25%       NaN    NaN     16.000000      9.500000     84.100000     14.500000   \n",
              "50%       NaN    NaN     28.000000     35.900000     97.100000     18.100000   \n",
              "75%       NaN    NaN     31.000000     62.200000    106.900000     21.800000   \n",
              "max       NaN    NaN     41.000000     98.000000    834.000000     50.000000   \n",
              "\n",
              "                 eFG        TS_per       ORB_per       DRB_per  ...  \\\n",
              "count   56091.000000  56091.000000  56091.000000  56091.000000  ...   \n",
              "unique           NaN           NaN           NaN           NaN  ...   \n",
              "top              NaN           NaN           NaN           NaN  ...   \n",
              "freq             NaN           NaN           NaN           NaN  ...   \n",
              "mean       44.575513     47.676882      5.575376     12.673716  ...   \n",
              "std        18.213813     17.414133      9.480239     10.878099  ...   \n",
              "min         0.000000      0.000000      0.000000      0.000000  ...   \n",
              "25%        40.100000     43.930000      1.800000      8.400000  ...   \n",
              "50%        47.700000     50.850000      4.300000     11.900000  ...   \n",
              "75%        53.200000     56.060000      8.100000     16.000000  ...   \n",
              "max       150.000000    150.000000   1576.600000   1385.000000  ...   \n",
              "\n",
              "               dgbpm          oreb          dreb          treb           ast  \\\n",
              "count   56047.000000  56053.000000  56053.000000  56053.000000  56053.000000   \n",
              "unique           NaN           NaN           NaN           NaN           NaN   \n",
              "top              NaN           NaN           NaN           NaN           NaN   \n",
              "freq             NaN           NaN           NaN           NaN           NaN   \n",
              "mean       -0.442297      0.770611      1.892593      2.663204      1.073038   \n",
              "std         3.279438      0.738899      1.479148      2.099913      1.171148   \n",
              "min      -100.984000      0.000000      0.000000      0.000000      0.000000   \n",
              "25%        -1.728030      0.225800      0.700000      1.000000      0.222200   \n",
              "50%        -0.313051      0.545500      1.633300      2.259300      0.677400   \n",
              "75%         1.066415      1.111100      2.758600      3.833300      1.533300   \n",
              "max        78.985500      5.933300     11.545500     14.533300     10.000000   \n",
              "\n",
              "                 stl           blk           pts  \\\n",
              "count   56053.000000  56053.000000  56053.000000   \n",
              "unique           NaN           NaN           NaN   \n",
              "top              NaN           NaN           NaN   \n",
              "freq             NaN           NaN           NaN   \n",
              "mean        0.529475      0.282825      5.775381   \n",
              "std         0.469152      0.417754      4.953723   \n",
              "min         0.000000      0.000000      0.000000   \n",
              "25%         0.160000      0.000000      1.571400   \n",
              "50%         0.424200      0.133300      4.482800   \n",
              "75%         0.793100      0.366700      9.069000   \n",
              "max         4.000000      5.258100     30.090900   \n",
              "\n",
              "                                   player_id       drafted  \n",
              "count                                  56091  56091.000000  \n",
              "unique                                 23929           NaN  \n",
              "top     06dc8dc2-888e-4941-9106-4798cddfb9d2           NaN  \n",
              "freq                                       6           NaN  \n",
              "mean                                     NaN      0.009556  \n",
              "std                                      NaN      0.097287  \n",
              "min                                      NaN      0.000000  \n",
              "25%                                      NaN      0.000000  \n",
              "50%                                      NaN      0.000000  \n",
              "75%                                      NaN      0.000000  \n",
              "max                                      NaN      1.000000  \n",
              "\n",
              "[11 rows x 64 columns]"
            ],
            "text/html": [
              "\n",
              "  <div id=\"df-5974b170-6d44-4efd-8a0e-bee80c3b3e2c\" class=\"colab-df-container\">\n",
              "    <div>\n",
              "<style scoped>\n",
              "    .dataframe tbody tr th:only-of-type {\n",
              "        vertical-align: middle;\n",
              "    }\n",
              "\n",
              "    .dataframe tbody tr th {\n",
              "        vertical-align: top;\n",
              "    }\n",
              "\n",
              "    .dataframe thead th {\n",
              "        text-align: right;\n",
              "    }\n",
              "</style>\n",
              "<table border=\"1\" class=\"dataframe\">\n",
              "  <thead>\n",
              "    <tr style=\"text-align: right;\">\n",
              "      <th></th>\n",
              "      <th>team</th>\n",
              "      <th>conf</th>\n",
              "      <th>GP</th>\n",
              "      <th>Min_per</th>\n",
              "      <th>Ortg</th>\n",
              "      <th>usg</th>\n",
              "      <th>eFG</th>\n",
              "      <th>TS_per</th>\n",
              "      <th>ORB_per</th>\n",
              "      <th>DRB_per</th>\n",
              "      <th>...</th>\n",
              "      <th>dgbpm</th>\n",
              "      <th>oreb</th>\n",
              "      <th>dreb</th>\n",
              "      <th>treb</th>\n",
              "      <th>ast</th>\n",
              "      <th>stl</th>\n",
              "      <th>blk</th>\n",
              "      <th>pts</th>\n",
              "      <th>player_id</th>\n",
              "      <th>drafted</th>\n",
              "    </tr>\n",
              "  </thead>\n",
              "  <tbody>\n",
              "    <tr>\n",
              "      <th>count</th>\n",
              "      <td>56091</td>\n",
              "      <td>56091</td>\n",
              "      <td>56091.000000</td>\n",
              "      <td>56091.000000</td>\n",
              "      <td>56091.000000</td>\n",
              "      <td>56091.000000</td>\n",
              "      <td>56091.000000</td>\n",
              "      <td>56091.000000</td>\n",
              "      <td>56091.000000</td>\n",
              "      <td>56091.000000</td>\n",
              "      <td>...</td>\n",
              "      <td>56047.000000</td>\n",
              "      <td>56053.000000</td>\n",
              "      <td>56053.000000</td>\n",
              "      <td>56053.000000</td>\n",
              "      <td>56053.000000</td>\n",
              "      <td>56053.000000</td>\n",
              "      <td>56053.000000</td>\n",
              "      <td>56053.000000</td>\n",
              "      <td>56091</td>\n",
              "      <td>56091.000000</td>\n",
              "    </tr>\n",
              "    <tr>\n",
              "      <th>unique</th>\n",
              "      <td>358</td>\n",
              "      <td>36</td>\n",
              "      <td>NaN</td>\n",
              "      <td>NaN</td>\n",
              "      <td>NaN</td>\n",
              "      <td>NaN</td>\n",
              "      <td>NaN</td>\n",
              "      <td>NaN</td>\n",
              "      <td>NaN</td>\n",
              "      <td>NaN</td>\n",
              "      <td>...</td>\n",
              "      <td>NaN</td>\n",
              "      <td>NaN</td>\n",
              "      <td>NaN</td>\n",
              "      <td>NaN</td>\n",
              "      <td>NaN</td>\n",
              "      <td>NaN</td>\n",
              "      <td>NaN</td>\n",
              "      <td>NaN</td>\n",
              "      <td>23929</td>\n",
              "      <td>NaN</td>\n",
              "    </tr>\n",
              "    <tr>\n",
              "      <th>top</th>\n",
              "      <td>Army</td>\n",
              "      <td>ACC</td>\n",
              "      <td>NaN</td>\n",
              "      <td>NaN</td>\n",
              "      <td>NaN</td>\n",
              "      <td>NaN</td>\n",
              "      <td>NaN</td>\n",
              "      <td>NaN</td>\n",
              "      <td>NaN</td>\n",
              "      <td>NaN</td>\n",
              "      <td>...</td>\n",
              "      <td>NaN</td>\n",
              "      <td>NaN</td>\n",
              "      <td>NaN</td>\n",
              "      <td>NaN</td>\n",
              "      <td>NaN</td>\n",
              "      <td>NaN</td>\n",
              "      <td>NaN</td>\n",
              "      <td>NaN</td>\n",
              "      <td>06dc8dc2-888e-4941-9106-4798cddfb9d2</td>\n",
              "      <td>NaN</td>\n",
              "    </tr>\n",
              "    <tr>\n",
              "      <th>freq</th>\n",
              "      <td>209</td>\n",
              "      <td>2297</td>\n",
              "      <td>NaN</td>\n",
              "      <td>NaN</td>\n",
              "      <td>NaN</td>\n",
              "      <td>NaN</td>\n",
              "      <td>NaN</td>\n",
              "      <td>NaN</td>\n",
              "      <td>NaN</td>\n",
              "      <td>NaN</td>\n",
              "      <td>...</td>\n",
              "      <td>NaN</td>\n",
              "      <td>NaN</td>\n",
              "      <td>NaN</td>\n",
              "      <td>NaN</td>\n",
              "      <td>NaN</td>\n",
              "      <td>NaN</td>\n",
              "      <td>NaN</td>\n",
              "      <td>NaN</td>\n",
              "      <td>6</td>\n",
              "      <td>NaN</td>\n",
              "    </tr>\n",
              "    <tr>\n",
              "      <th>mean</th>\n",
              "      <td>NaN</td>\n",
              "      <td>NaN</td>\n",
              "      <td>23.411973</td>\n",
              "      <td>37.325229</td>\n",
              "      <td>91.858295</td>\n",
              "      <td>18.149265</td>\n",
              "      <td>44.575513</td>\n",
              "      <td>47.676882</td>\n",
              "      <td>5.575376</td>\n",
              "      <td>12.673716</td>\n",
              "      <td>...</td>\n",
              "      <td>-0.442297</td>\n",
              "      <td>0.770611</td>\n",
              "      <td>1.892593</td>\n",
              "      <td>2.663204</td>\n",
              "      <td>1.073038</td>\n",
              "      <td>0.529475</td>\n",
              "      <td>0.282825</td>\n",
              "      <td>5.775381</td>\n",
              "      <td>NaN</td>\n",
              "      <td>0.009556</td>\n",
              "    </tr>\n",
              "    <tr>\n",
              "      <th>std</th>\n",
              "      <td>NaN</td>\n",
              "      <td>NaN</td>\n",
              "      <td>10.090542</td>\n",
              "      <td>28.061897</td>\n",
              "      <td>30.538819</td>\n",
              "      <td>6.204489</td>\n",
              "      <td>18.213813</td>\n",
              "      <td>17.414133</td>\n",
              "      <td>9.480239</td>\n",
              "      <td>10.878099</td>\n",
              "      <td>...</td>\n",
              "      <td>3.279438</td>\n",
              "      <td>0.738899</td>\n",
              "      <td>1.479148</td>\n",
              "      <td>2.099913</td>\n",
              "      <td>1.171148</td>\n",
              "      <td>0.469152</td>\n",
              "      <td>0.417754</td>\n",
              "      <td>4.953723</td>\n",
              "      <td>NaN</td>\n",
              "      <td>0.097287</td>\n",
              "    </tr>\n",
              "    <tr>\n",
              "      <th>min</th>\n",
              "      <td>NaN</td>\n",
              "      <td>NaN</td>\n",
              "      <td>1.000000</td>\n",
              "      <td>0.000000</td>\n",
              "      <td>0.000000</td>\n",
              "      <td>0.000000</td>\n",
              "      <td>0.000000</td>\n",
              "      <td>0.000000</td>\n",
              "      <td>0.000000</td>\n",
              "      <td>0.000000</td>\n",
              "      <td>...</td>\n",
              "      <td>-100.984000</td>\n",
              "      <td>0.000000</td>\n",
              "      <td>0.000000</td>\n",
              "      <td>0.000000</td>\n",
              "      <td>0.000000</td>\n",
              "      <td>0.000000</td>\n",
              "      <td>0.000000</td>\n",
              "      <td>0.000000</td>\n",
              "      <td>NaN</td>\n",
              "      <td>0.000000</td>\n",
              "    </tr>\n",
              "    <tr>\n",
              "      <th>25%</th>\n",
              "      <td>NaN</td>\n",
              "      <td>NaN</td>\n",
              "      <td>16.000000</td>\n",
              "      <td>9.500000</td>\n",
              "      <td>84.100000</td>\n",
              "      <td>14.500000</td>\n",
              "      <td>40.100000</td>\n",
              "      <td>43.930000</td>\n",
              "      <td>1.800000</td>\n",
              "      <td>8.400000</td>\n",
              "      <td>...</td>\n",
              "      <td>-1.728030</td>\n",
              "      <td>0.225800</td>\n",
              "      <td>0.700000</td>\n",
              "      <td>1.000000</td>\n",
              "      <td>0.222200</td>\n",
              "      <td>0.160000</td>\n",
              "      <td>0.000000</td>\n",
              "      <td>1.571400</td>\n",
              "      <td>NaN</td>\n",
              "      <td>0.000000</td>\n",
              "    </tr>\n",
              "    <tr>\n",
              "      <th>50%</th>\n",
              "      <td>NaN</td>\n",
              "      <td>NaN</td>\n",
              "      <td>28.000000</td>\n",
              "      <td>35.900000</td>\n",
              "      <td>97.100000</td>\n",
              "      <td>18.100000</td>\n",
              "      <td>47.700000</td>\n",
              "      <td>50.850000</td>\n",
              "      <td>4.300000</td>\n",
              "      <td>11.900000</td>\n",
              "      <td>...</td>\n",
              "      <td>-0.313051</td>\n",
              "      <td>0.545500</td>\n",
              "      <td>1.633300</td>\n",
              "      <td>2.259300</td>\n",
              "      <td>0.677400</td>\n",
              "      <td>0.424200</td>\n",
              "      <td>0.133300</td>\n",
              "      <td>4.482800</td>\n",
              "      <td>NaN</td>\n",
              "      <td>0.000000</td>\n",
              "    </tr>\n",
              "    <tr>\n",
              "      <th>75%</th>\n",
              "      <td>NaN</td>\n",
              "      <td>NaN</td>\n",
              "      <td>31.000000</td>\n",
              "      <td>62.200000</td>\n",
              "      <td>106.900000</td>\n",
              "      <td>21.800000</td>\n",
              "      <td>53.200000</td>\n",
              "      <td>56.060000</td>\n",
              "      <td>8.100000</td>\n",
              "      <td>16.000000</td>\n",
              "      <td>...</td>\n",
              "      <td>1.066415</td>\n",
              "      <td>1.111100</td>\n",
              "      <td>2.758600</td>\n",
              "      <td>3.833300</td>\n",
              "      <td>1.533300</td>\n",
              "      <td>0.793100</td>\n",
              "      <td>0.366700</td>\n",
              "      <td>9.069000</td>\n",
              "      <td>NaN</td>\n",
              "      <td>0.000000</td>\n",
              "    </tr>\n",
              "    <tr>\n",
              "      <th>max</th>\n",
              "      <td>NaN</td>\n",
              "      <td>NaN</td>\n",
              "      <td>41.000000</td>\n",
              "      <td>98.000000</td>\n",
              "      <td>834.000000</td>\n",
              "      <td>50.000000</td>\n",
              "      <td>150.000000</td>\n",
              "      <td>150.000000</td>\n",
              "      <td>1576.600000</td>\n",
              "      <td>1385.000000</td>\n",
              "      <td>...</td>\n",
              "      <td>78.985500</td>\n",
              "      <td>5.933300</td>\n",
              "      <td>11.545500</td>\n",
              "      <td>14.533300</td>\n",
              "      <td>10.000000</td>\n",
              "      <td>4.000000</td>\n",
              "      <td>5.258100</td>\n",
              "      <td>30.090900</td>\n",
              "      <td>NaN</td>\n",
              "      <td>1.000000</td>\n",
              "    </tr>\n",
              "  </tbody>\n",
              "</table>\n",
              "<p>11 rows × 64 columns</p>\n",
              "</div>\n",
              "    <div class=\"colab-df-buttons\">\n",
              "\n",
              "  <div class=\"colab-df-container\">\n",
              "    <button class=\"colab-df-convert\" onclick=\"convertToInteractive('df-5974b170-6d44-4efd-8a0e-bee80c3b3e2c')\"\n",
              "            title=\"Convert this dataframe to an interactive table.\"\n",
              "            style=\"display:none;\">\n",
              "\n",
              "  <svg xmlns=\"http://www.w3.org/2000/svg\" height=\"24px\" viewBox=\"0 -960 960 960\">\n",
              "    <path d=\"M120-120v-720h720v720H120Zm60-500h600v-160H180v160Zm220 220h160v-160H400v160Zm0 220h160v-160H400v160ZM180-400h160v-160H180v160Zm440 0h160v-160H620v160ZM180-180h160v-160H180v160Zm440 0h160v-160H620v160Z\"/>\n",
              "  </svg>\n",
              "    </button>\n",
              "\n",
              "  <style>\n",
              "    .colab-df-container {\n",
              "      display:flex;\n",
              "      gap: 12px;\n",
              "    }\n",
              "\n",
              "    .colab-df-convert {\n",
              "      background-color: #E8F0FE;\n",
              "      border: none;\n",
              "      border-radius: 50%;\n",
              "      cursor: pointer;\n",
              "      display: none;\n",
              "      fill: #1967D2;\n",
              "      height: 32px;\n",
              "      padding: 0 0 0 0;\n",
              "      width: 32px;\n",
              "    }\n",
              "\n",
              "    .colab-df-convert:hover {\n",
              "      background-color: #E2EBFA;\n",
              "      box-shadow: 0px 1px 2px rgba(60, 64, 67, 0.3), 0px 1px 3px 1px rgba(60, 64, 67, 0.15);\n",
              "      fill: #174EA6;\n",
              "    }\n",
              "\n",
              "    .colab-df-buttons div {\n",
              "      margin-bottom: 4px;\n",
              "    }\n",
              "\n",
              "    [theme=dark] .colab-df-convert {\n",
              "      background-color: #3B4455;\n",
              "      fill: #D2E3FC;\n",
              "    }\n",
              "\n",
              "    [theme=dark] .colab-df-convert:hover {\n",
              "      background-color: #434B5C;\n",
              "      box-shadow: 0px 1px 3px 1px rgba(0, 0, 0, 0.15);\n",
              "      filter: drop-shadow(0px 1px 2px rgba(0, 0, 0, 0.3));\n",
              "      fill: #FFFFFF;\n",
              "    }\n",
              "  </style>\n",
              "\n",
              "    <script>\n",
              "      const buttonEl =\n",
              "        document.querySelector('#df-5974b170-6d44-4efd-8a0e-bee80c3b3e2c button.colab-df-convert');\n",
              "      buttonEl.style.display =\n",
              "        google.colab.kernel.accessAllowed ? 'block' : 'none';\n",
              "\n",
              "      async function convertToInteractive(key) {\n",
              "        const element = document.querySelector('#df-5974b170-6d44-4efd-8a0e-bee80c3b3e2c');\n",
              "        const dataTable =\n",
              "          await google.colab.kernel.invokeFunction('convertToInteractive',\n",
              "                                                    [key], {});\n",
              "        if (!dataTable) return;\n",
              "\n",
              "        const docLinkHtml = 'Like what you see? Visit the ' +\n",
              "          '<a target=\"_blank\" href=https://colab.research.google.com/notebooks/data_table.ipynb>data table notebook</a>'\n",
              "          + ' to learn more about interactive tables.';\n",
              "        element.innerHTML = '';\n",
              "        dataTable['output_type'] = 'display_data';\n",
              "        await google.colab.output.renderOutput(dataTable, element);\n",
              "        const docLink = document.createElement('div');\n",
              "        docLink.innerHTML = docLinkHtml;\n",
              "        element.appendChild(docLink);\n",
              "      }\n",
              "    </script>\n",
              "  </div>\n",
              "\n",
              "\n",
              "<div id=\"df-3834bb67-b161-4fba-8c60-8c80b7b9f413\">\n",
              "  <button class=\"colab-df-quickchart\" onclick=\"quickchart('df-3834bb67-b161-4fba-8c60-8c80b7b9f413')\"\n",
              "            title=\"Suggest charts.\"\n",
              "            style=\"display:none;\">\n",
              "\n",
              "<svg xmlns=\"http://www.w3.org/2000/svg\" height=\"24px\"viewBox=\"0 0 24 24\"\n",
              "     width=\"24px\">\n",
              "    <g>\n",
              "        <path d=\"M19 3H5c-1.1 0-2 .9-2 2v14c0 1.1.9 2 2 2h14c1.1 0 2-.9 2-2V5c0-1.1-.9-2-2-2zM9 17H7v-7h2v7zm4 0h-2V7h2v10zm4 0h-2v-4h2v4z\"/>\n",
              "    </g>\n",
              "</svg>\n",
              "  </button>\n",
              "\n",
              "<style>\n",
              "  .colab-df-quickchart {\n",
              "    background-color: #E8F0FE;\n",
              "    border: none;\n",
              "    border-radius: 50%;\n",
              "    cursor: pointer;\n",
              "    display: none;\n",
              "    fill: #1967D2;\n",
              "    height: 32px;\n",
              "    padding: 0 0 0 0;\n",
              "    width: 32px;\n",
              "  }\n",
              "\n",
              "  .colab-df-quickchart:hover {\n",
              "    background-color: #E2EBFA;\n",
              "    box-shadow: 0px 1px 2px rgba(60, 64, 67, 0.3), 0px 1px 3px 1px rgba(60, 64, 67, 0.15);\n",
              "    fill: #174EA6;\n",
              "  }\n",
              "\n",
              "  [theme=dark] .colab-df-quickchart {\n",
              "    background-color: #3B4455;\n",
              "    fill: #D2E3FC;\n",
              "  }\n",
              "\n",
              "  [theme=dark] .colab-df-quickchart:hover {\n",
              "    background-color: #434B5C;\n",
              "    box-shadow: 0px 1px 3px 1px rgba(0, 0, 0, 0.15);\n",
              "    filter: drop-shadow(0px 1px 2px rgba(0, 0, 0, 0.3));\n",
              "    fill: #FFFFFF;\n",
              "  }\n",
              "</style>\n",
              "\n",
              "  <script>\n",
              "    async function quickchart(key) {\n",
              "      const charts = await google.colab.kernel.invokeFunction(\n",
              "          'suggestCharts', [key], {});\n",
              "    }\n",
              "    (() => {\n",
              "      let quickchartButtonEl =\n",
              "        document.querySelector('#df-3834bb67-b161-4fba-8c60-8c80b7b9f413 button');\n",
              "      quickchartButtonEl.style.display =\n",
              "        google.colab.kernel.accessAllowed ? 'block' : 'none';\n",
              "    })();\n",
              "  </script>\n",
              "</div>\n",
              "    </div>\n",
              "  </div>\n"
            ]
          },
          "metadata": {},
          "execution_count": 216
        }
      ],
      "source": [
        "# Solution\n",
        "df.describe(include='all')"
      ]
    },
    {
      "cell_type": "markdown",
      "metadata": {
        "id": "tPHsDYeOtl5l"
      },
      "source": [
        "## 3. Prepare Data"
      ]
    },
    {
      "cell_type": "code",
      "source": [
        "import pandas as pd\n",
        "import pandas as pd\n",
        "from sklearn.model_selection import train_test_split\n",
        "from sklearn.preprocessing import StandardScaler, OneHotEncoder\n",
        "from sklearn.compose import ColumnTransformer\n",
        "from sklearn.ensemble import RandomForestClassifier\n",
        "from sklearn.metrics import roc_auc_score\n",
        "from sklearn.preprocessing import StandardScaler, OneHotEncoder\n",
        "ohe = OneHotEncoder(sparse_output=False, drop='first')\n",
        "from joblib import dump\n",
        "scaler = StandardScaler()\n",
        "from sklearn.preprocessing import StandardScaler, OneHotEncoder"
      ],
      "metadata": {
        "id": "n-MZBUX0sX83"
      },
      "execution_count": 217,
      "outputs": []
    },
    {
      "cell_type": "code",
      "source": [
        "X_train = train_data.drop(columns=['player_id', 'drafted'])\n",
        "y_train = train_data['drafted']\n",
        "X_test = test_data.drop(columns=['player_id'])"
      ],
      "metadata": {
        "id": "cEMlalwrx0sP"
      },
      "execution_count": 218,
      "outputs": []
    },
    {
      "cell_type": "code",
      "source": [
        "X = train_data.drop(['player_id', 'drafted'], axis=1)\n",
        "y = train_data['drafted']"
      ],
      "metadata": {
        "id": "ebL0LOGYe7sB"
      },
      "execution_count": 219,
      "outputs": []
    },
    {
      "cell_type": "code",
      "source": [
        "X_train, X_test, y_train, y_test = train_test_split(X, y, test_size=0.2, random_state=42)"
      ],
      "metadata": {
        "id": "X0OLHoOZe7vg"
      },
      "execution_count": 220,
      "outputs": []
    },
    {
      "cell_type": "code",
      "source": [
        "data = pd.read_csv('/content/train.csv')"
      ],
      "metadata": {
        "colab": {
          "base_uri": "https://localhost:8080/"
        },
        "id": "yHpV9tSjeAuN",
        "outputId": "eae4ebc2-3987-4983-d876-3087d1e426d0"
      },
      "execution_count": 221,
      "outputs": [
        {
          "output_type": "stream",
          "name": "stderr",
          "text": [
            "<ipython-input-221-929c6520a22d>:1: DtypeWarning: Columns (26) have mixed types. Specify dtype option on import or set low_memory=False.\n",
            "  data = pd.read_csv('/content/train.csv')\n"
          ]
        }
      ]
    },
    {
      "cell_type": "code",
      "source": [
        "X = data.drop(['player_id', 'drafted'], axis=1)\n",
        "y = data['drafted']"
      ],
      "metadata": {
        "id": "bk-bJik1d0-F"
      },
      "execution_count": 222,
      "outputs": []
    },
    {
      "cell_type": "code",
      "source": [
        "X_train, X_test, y_train, y_test = train_test_split(X, y, test_size=0.2, random_state=42)"
      ],
      "metadata": {
        "id": "iQcNwacgeCcn"
      },
      "execution_count": 223,
      "outputs": []
    },
    {
      "cell_type": "code",
      "source": [
        "categorical_columns = ['team', 'conf', 'yr', 'ht']  # Replace with actual categorical columns\n",
        "\n"
      ],
      "metadata": {
        "id": "OycuS15KQa7T"
      },
      "execution_count": 224,
      "outputs": []
    },
    {
      "cell_type": "markdown",
      "source": [
        "DATA CLEANING"
      ],
      "metadata": {
        "id": "45RCj9SXTcgo"
      }
    },
    {
      "cell_type": "code",
      "source": [
        "for column in categorical_columns:\n",
        "    print(column, X_train[column].unique())"
      ],
      "metadata": {
        "colab": {
          "base_uri": "https://localhost:8080/"
        },
        "id": "Zla4purJTbLJ",
        "outputId": "9e9b78bf-d523-478c-d62a-c73e1aa826ac"
      },
      "execution_count": 225,
      "outputs": [
        {
          "output_type": "stream",
          "name": "stdout",
          "text": [
            "team ['Middle Tennessee' 'Northern Arizona' 'Yale' 'Virginia Tech' 'Oregon'\n",
            " 'Syracuse' 'Florida St.' 'Illinois' 'Louisville' 'West Virginia' 'Lehigh'\n",
            " 'Washington St.' 'Seton Hall' 'St. Francis NY' 'Western Michigan'\n",
            " 'Houston' 'Northern Illinois' 'Weber St.' 'Duquesne' 'SIU Edwardsville'\n",
            " 'Wake Forest' 'Western Kentucky' 'Maine' 'High Point' 'Morgan St.'\n",
            " 'Northwestern St.' 'Gonzaga' 'Rice' 'Alabama' 'Texas Tech' 'Savannah St.'\n",
            " 'Campbell' 'Coppin St.' 'Oklahoma' 'USC' 'Mississippi Valley St.'\n",
            " 'Longwood' 'Southeastern Louisiana' 'UC Davis' 'Tulane' 'Maryland'\n",
            " 'Gardner Webb' 'Texas A&M' 'Utah St.' 'Wisconsin' 'Ohio'\n",
            " 'Eastern Washington' 'Tulsa' 'Sam Houston St.' 'Rutgers' 'Pacific'\n",
            " 'Tennessee' 'Georgia Southern' 'Bucknell' 'UCF' 'Texas' 'Boston College'\n",
            " 'Florida Atlantic' 'Akron' 'Western Illinois' 'Kansas' 'Norfolk St.'\n",
            " 'Western Carolina' 'Delaware' 'Xavier' 'TCU' 'Temple' 'Denver'\n",
            " 'Northeastern' 'North Florida' 'Evansville' 'Charleston Southern'\n",
            " \"Saint Peter's\" 'The Citadel' 'Bethune Cookman' 'South Florida'\n",
            " 'James Madison' 'North Carolina' 'Idaho' 'Morehead St.' 'Alabama St.'\n",
            " 'Cincinnati' 'Stephen F. Austin' 'Saint Louis' 'Nicholls St.' 'Wagner'\n",
            " 'Drexel' 'Mississippi' 'Howard' 'Iowa St.' 'Washington' 'Wofford'\n",
            " 'East Carolina' \"St. John's\" 'New Mexico' 'Vermont' 'LIU Brooklyn'\n",
            " 'UC Irvine' 'New Hampshire' \"Mount St. Mary's\" 'Buffalo' 'NJIT' 'Hofstra'\n",
            " 'Chattanooga' 'Jackson St.' 'Central Michigan' 'Fort Wayne' 'IUPUI'\n",
            " 'Stony Brook' 'UNC Asheville' 'Michigan St.' 'UC Riverside' 'Furman'\n",
            " 'Miami OH' 'Cal St. Bakersfield' 'Richmond' 'UMBC' 'Old Dominion'\n",
            " 'North Dakota St.' 'Louisiana Lafayette' 'Portland' 'Wyoming'\n",
            " 'Central Connecticut' 'Monmouth' 'UT Arlington' 'Sacramento St.' 'Bryant'\n",
            " 'Northwestern' 'Colgate' 'Nebraska' 'Army' 'South Carolina' 'UTSA'\n",
            " 'Connecticut' 'Georgia Tech' 'Southern Miss' 'Montana' 'Nevada'\n",
            " 'Oregon St.' 'Northern Iowa' 'Georgetown' 'Louisiana Tech' 'Alcorn St.'\n",
            " 'North Carolina St.' 'Hartford' 'North Texas' 'Duke' 'Detroit' 'Marist'\n",
            " 'Stetson' 'North Dakota' 'Florida Gulf Coast' 'Radford' 'Penn St.'\n",
            " 'North Carolina A&T' 'USC Upstate' 'Purdue' 'Arizona' 'Bradley'\n",
            " 'Lipscomb' 'Princeton' 'Eastern Illinois' 'UAB' 'UMKC' 'Troy'\n",
            " 'UC Santa Barbara' 'Idaho St.' 'East Tennessee St.' 'Portland St.'\n",
            " 'Central Arkansas' 'Louisiana Monroe' 'Mercer' 'Ohio St.' 'New Orleans'\n",
            " 'Navy' 'FIU' 'Georgia St.' 'Wright St.' 'Iona' 'Siena' 'Belmont'\n",
            " 'Quinnipiac' 'San Diego St.' 'Alabama A&M' 'Florida' 'Baylor' 'Missouri'\n",
            " 'Manhattan' 'Austin Peay' 'UNC Wilmington' 'Lafayette' 'UNC Greensboro'\n",
            " 'Indiana' 'Seattle' 'Fordham' 'Cornell' 'SMU' 'Lamar' 'Jacksonville'\n",
            " 'Brown' 'George Mason' 'Tennessee Martin' 'Centenary' 'Air Force'\n",
            " 'Green Bay' 'Pepperdine' 'Mississippi St.' 'Arkansas St.' 'Creighton'\n",
            " 'Youngstown St.' 'Southern' 'Michigan' 'Boise St.' 'Ball St.' 'Towson'\n",
            " 'Wichita St.' 'San Diego' 'Appalachian St.' 'Arkansas' 'Murray St.'\n",
            " 'Kansas St.' 'Liberty' 'Marshall' 'Elon' 'South Carolina St.'\n",
            " 'George Washington' 'Winthrop' 'South Dakota' 'Loyola Marymount' 'BYU'\n",
            " 'William & Mary' 'Coastal Carolina' 'Canisius' 'Houston Baptist'\n",
            " 'Sacred Heart' 'Cal St. Northridge' 'Virginia' 'Loyola Chicago' 'Niagara'\n",
            " 'Harvard' 'Tennessee St.' 'Milwaukee' 'Robert Morris' 'Long Beach St.'\n",
            " 'Northern Colorado' 'Prairie View A&M' 'Boston University' 'Loyola MD'\n",
            " 'Providence' 'UCLA' 'Notre Dame' 'Dayton' 'Montana St.' 'Colorado'\n",
            " 'South Alabama' 'Grambling St.' 'Santa Clara' 'Eastern Kentucky'\n",
            " 'College of Charleston' 'Davidson' 'Hawaii' 'UNLV' 'Presbyterian' 'LSU'\n",
            " 'Arkansas Pine Bluff' 'Kent St.' 'Fairfield' 'San Jose St.' 'VMI'\n",
            " 'Oklahoma St.' 'Oral Roberts' 'Butler' 'Hampton' 'McNeese St.' 'Iowa'\n",
            " 'UMass Lowell' 'Massachusetts' 'Rhode Island' 'Utah Valley'\n",
            " 'Cal St. Fullerton' 'Missouri St.' 'Drake' 'Southeast Missouri St.'\n",
            " 'Holy Cross' 'New Mexico St.' 'Columbia' 'IPFW' 'Fresno St.'\n",
            " 'Nebraska Omaha' 'St. Francis PA' 'Charlotte' 'Cleveland St.' 'Toledo'\n",
            " 'Memphis' 'UTEP' 'Eastern Michigan' 'Florida A&M' 'Abilene Christian'\n",
            " 'Southern Utah' \"Saint Joseph's\" 'American' 'Fairleigh Dickinson'\n",
            " 'DePaul' 'Illinois St.' 'California' 'Rider' 'UT Rio Grande Valley'\n",
            " 'Penn' 'St. Bonaventure' 'San Francisco' \"Saint Mary's\"\n",
            " 'Southern Illinois' 'Stanford' 'Texas St.' 'Auburn' 'Marquette'\n",
            " 'Chicago St.' 'Oakland' 'Miami FL' 'Bowling Green' 'Grand Canyon'\n",
            " 'Albany' 'Illinois Chicago' 'Arkansas Little Rock' 'Utah' 'La Salle'\n",
            " 'Clemson' 'Kentucky' 'Indiana St.' 'Texas Southern' 'Delaware St.'\n",
            " 'Villanova' 'Arizona St.' 'Merrimack' 'South Dakota St.' 'Samford'\n",
            " 'Cal Poly' 'Tennessee Tech' 'Jacksonville St.' 'Minnesota' 'Dartmouth'\n",
            " 'Northern Kentucky' 'Texas A&M Corpus Chris' 'Pittsburgh' 'Kennesaw St.'\n",
            " 'North Carolina Central' 'Valparaiso' 'Georgia' 'Binghamton'\n",
            " 'Maryland Eastern Shore' 'Incarnate Word' 'Vanderbilt' 'Colorado St.'\n",
            " 'North Alabama' 'VCU' 'Little Rock' 'Winston Salem St.' 'Cal Baptist']\n",
            "conf ['SB' 'BSky' 'Ivy' 'ACC' 'P12' 'B10' 'BE' 'Pat' 'NEC' 'MAC' 'CUSA' 'A10'\n",
            " 'OVC' 'AE' 'BSth' 'MEAC' 'Slnd' 'WCC' 'SEC' 'B12' 'SWAC' 'BW' 'Amer'\n",
            " 'WAC' 'Sum' 'SC' 'CAA' 'ASun' 'MVC' 'MAAC' 'ind' 'MWC' 'GWC' 'P10' 'Horz'\n",
            " 'Ind']\n",
            "yr ['Sr' 'Fr' 'So' 'Jr' nan 'None' '0' '42.9']\n",
            "ht ['2-Jun' '8-Jun' '4-Jun' '3-Jun' '10-May' '6-Jun' '1-Jun' '11-Jun'\n",
            " '10-Jun' 'Jun-00' '7-Jun' '9-May' '5-Jun' '11-May' 'Jul-00' '6-May'\n",
            " '9-Jun' '7-May' '2-Jul' '-' '8-May' '1-Jul' '4-May' 'Apr-00' '3-Jul' nan\n",
            " 'None' '6-Jul' '5-Apr' '3-May' '0' '4-Jul' '5-May' '1-May' '5-Jul'\n",
            " '2-May' 'So' 'Jr' 'Fr' \"6'4\"]\n"
          ]
        }
      ]
    },
    {
      "cell_type": "code",
      "source": [
        "X_train_encoded = pd.get_dummies(X_train, columns=categorical_columns)\n",
        "X_test_encoded = pd.get_dummies(X_test, columns=categorical_columns)"
      ],
      "metadata": {
        "id": "sEZ6aZKoTlRZ"
      },
      "execution_count": 226,
      "outputs": []
    },
    {
      "cell_type": "code",
      "source": [
        "preprocessor = ColumnTransformer(\n",
        "    transformers=[\n",
        "        ('num', StandardScaler(), X_train.columns.difference(categorical_columns)),\n",
        "        ('cat', OneHotEncoder(), categorical_columns)\n",
        "    ])"
      ],
      "metadata": {
        "id": "gSbNC3SxVcez"
      },
      "execution_count": 227,
      "outputs": []
    },
    {
      "cell_type": "code",
      "source": [
        "from sklearn.preprocessing import StandardScaler\n",
        "from sklearn.compose import ColumnTransformer\n",
        "from sklearn.pipeline import Pipeline"
      ],
      "metadata": {
        "id": "ZI7uJZQLmjYn"
      },
      "execution_count": 228,
      "outputs": []
    },
    {
      "cell_type": "code",
      "source": [
        "numeric_columns = ['column1', 'column2', ...]  # List of numeric column names"
      ],
      "metadata": {
        "id": "ASs4SW38mw59"
      },
      "execution_count": 229,
      "outputs": []
    },
    {
      "cell_type": "code",
      "source": [
        "preprocessor = ColumnTransformer(\n",
        "    transformers=[\n",
        "        ('num', StandardScaler(), numeric_columns)\n",
        "    ],\n",
        "    remainder='passthrough'  # Pass non-numeric columns through as-is\n",
        ")\n"
      ],
      "metadata": {
        "id": "EFcy5cYvm8TV"
      },
      "execution_count": 230,
      "outputs": []
    },
    {
      "cell_type": "code",
      "source": [
        "scaler = StandardScaler()\n",
        "X_train_scaled = scaler.fit_transform(X_train)\n",
        "X_test_scaled = scaler.transform(X_test)"
      ],
      "metadata": {
        "colab": {
          "base_uri": "https://localhost:8080/",
          "height": 355
        },
        "id": "lMbxpqsEmS-a",
        "outputId": "2089dc56-b6b3-4dc4-9942-412e82540618"
      },
      "execution_count": 231,
      "outputs": [
        {
          "output_type": "error",
          "ename": "ValueError",
          "evalue": "ignored",
          "traceback": [
            "\u001b[0;31m---------------------------------------------------------------------------\u001b[0m",
            "\u001b[0;31mValueError\u001b[0m                                Traceback (most recent call last)",
            "\u001b[0;32m<ipython-input-231-a742f5d03ef9>\u001b[0m in \u001b[0;36m<cell line: 2>\u001b[0;34m()\u001b[0m\n\u001b[1;32m      1\u001b[0m \u001b[0mscaler\u001b[0m \u001b[0;34m=\u001b[0m \u001b[0mStandardScaler\u001b[0m\u001b[0;34m(\u001b[0m\u001b[0;34m)\u001b[0m\u001b[0;34m\u001b[0m\u001b[0;34m\u001b[0m\u001b[0m\n\u001b[0;32m----> 2\u001b[0;31m \u001b[0mX_train_scaled\u001b[0m \u001b[0;34m=\u001b[0m \u001b[0mscaler\u001b[0m\u001b[0;34m.\u001b[0m\u001b[0mfit_transform\u001b[0m\u001b[0;34m(\u001b[0m\u001b[0mX_train\u001b[0m\u001b[0;34m)\u001b[0m\u001b[0;34m\u001b[0m\u001b[0;34m\u001b[0m\u001b[0m\n\u001b[0m\u001b[1;32m      3\u001b[0m \u001b[0mX_test_scaled\u001b[0m \u001b[0;34m=\u001b[0m \u001b[0mscaler\u001b[0m\u001b[0;34m.\u001b[0m\u001b[0mtransform\u001b[0m\u001b[0;34m(\u001b[0m\u001b[0mX_test\u001b[0m\u001b[0;34m)\u001b[0m\u001b[0;34m\u001b[0m\u001b[0;34m\u001b[0m\u001b[0m\n",
            "\u001b[0;32m/usr/local/lib/python3.10/dist-packages/sklearn/utils/_set_output.py\u001b[0m in \u001b[0;36mwrapped\u001b[0;34m(self, X, *args, **kwargs)\u001b[0m\n\u001b[1;32m    138\u001b[0m     \u001b[0;34m@\u001b[0m\u001b[0mwraps\u001b[0m\u001b[0;34m(\u001b[0m\u001b[0mf\u001b[0m\u001b[0;34m)\u001b[0m\u001b[0;34m\u001b[0m\u001b[0;34m\u001b[0m\u001b[0m\n\u001b[1;32m    139\u001b[0m     \u001b[0;32mdef\u001b[0m \u001b[0mwrapped\u001b[0m\u001b[0;34m(\u001b[0m\u001b[0mself\u001b[0m\u001b[0;34m,\u001b[0m \u001b[0mX\u001b[0m\u001b[0;34m,\u001b[0m \u001b[0;34m*\u001b[0m\u001b[0margs\u001b[0m\u001b[0;34m,\u001b[0m \u001b[0;34m**\u001b[0m\u001b[0mkwargs\u001b[0m\u001b[0;34m)\u001b[0m\u001b[0;34m:\u001b[0m\u001b[0;34m\u001b[0m\u001b[0;34m\u001b[0m\u001b[0m\n\u001b[0;32m--> 140\u001b[0;31m         \u001b[0mdata_to_wrap\u001b[0m \u001b[0;34m=\u001b[0m \u001b[0mf\u001b[0m\u001b[0;34m(\u001b[0m\u001b[0mself\u001b[0m\u001b[0;34m,\u001b[0m \u001b[0mX\u001b[0m\u001b[0;34m,\u001b[0m \u001b[0;34m*\u001b[0m\u001b[0margs\u001b[0m\u001b[0;34m,\u001b[0m \u001b[0;34m**\u001b[0m\u001b[0mkwargs\u001b[0m\u001b[0;34m)\u001b[0m\u001b[0;34m\u001b[0m\u001b[0;34m\u001b[0m\u001b[0m\n\u001b[0m\u001b[1;32m    141\u001b[0m         \u001b[0;32mif\u001b[0m \u001b[0misinstance\u001b[0m\u001b[0;34m(\u001b[0m\u001b[0mdata_to_wrap\u001b[0m\u001b[0;34m,\u001b[0m \u001b[0mtuple\u001b[0m\u001b[0;34m)\u001b[0m\u001b[0;34m:\u001b[0m\u001b[0;34m\u001b[0m\u001b[0;34m\u001b[0m\u001b[0m\n\u001b[1;32m    142\u001b[0m             \u001b[0;31m# only wrap the first output for cross decomposition\u001b[0m\u001b[0;34m\u001b[0m\u001b[0;34m\u001b[0m\u001b[0m\n",
            "\u001b[0;32m/usr/local/lib/python3.10/dist-packages/sklearn/base.py\u001b[0m in \u001b[0;36mfit_transform\u001b[0;34m(self, X, y, **fit_params)\u001b[0m\n\u001b[1;32m    876\u001b[0m         \u001b[0;32mif\u001b[0m \u001b[0my\u001b[0m \u001b[0;32mis\u001b[0m \u001b[0;32mNone\u001b[0m\u001b[0;34m:\u001b[0m\u001b[0;34m\u001b[0m\u001b[0;34m\u001b[0m\u001b[0m\n\u001b[1;32m    877\u001b[0m             \u001b[0;31m# fit method of arity 1 (unsupervised transformation)\u001b[0m\u001b[0;34m\u001b[0m\u001b[0;34m\u001b[0m\u001b[0m\n\u001b[0;32m--> 878\u001b[0;31m             \u001b[0;32mreturn\u001b[0m \u001b[0mself\u001b[0m\u001b[0;34m.\u001b[0m\u001b[0mfit\u001b[0m\u001b[0;34m(\u001b[0m\u001b[0mX\u001b[0m\u001b[0;34m,\u001b[0m \u001b[0;34m**\u001b[0m\u001b[0mfit_params\u001b[0m\u001b[0;34m)\u001b[0m\u001b[0;34m.\u001b[0m\u001b[0mtransform\u001b[0m\u001b[0;34m(\u001b[0m\u001b[0mX\u001b[0m\u001b[0;34m)\u001b[0m\u001b[0;34m\u001b[0m\u001b[0;34m\u001b[0m\u001b[0m\n\u001b[0m\u001b[1;32m    879\u001b[0m         \u001b[0;32melse\u001b[0m\u001b[0;34m:\u001b[0m\u001b[0;34m\u001b[0m\u001b[0;34m\u001b[0m\u001b[0m\n\u001b[1;32m    880\u001b[0m             \u001b[0;31m# fit method of arity 2 (supervised transformation)\u001b[0m\u001b[0;34m\u001b[0m\u001b[0;34m\u001b[0m\u001b[0m\n",
            "\u001b[0;32m/usr/local/lib/python3.10/dist-packages/sklearn/preprocessing/_data.py\u001b[0m in \u001b[0;36mfit\u001b[0;34m(self, X, y, sample_weight)\u001b[0m\n\u001b[1;32m    822\u001b[0m         \u001b[0;31m# Reset internal state before fitting\u001b[0m\u001b[0;34m\u001b[0m\u001b[0;34m\u001b[0m\u001b[0m\n\u001b[1;32m    823\u001b[0m         \u001b[0mself\u001b[0m\u001b[0;34m.\u001b[0m\u001b[0m_reset\u001b[0m\u001b[0;34m(\u001b[0m\u001b[0;34m)\u001b[0m\u001b[0;34m\u001b[0m\u001b[0;34m\u001b[0m\u001b[0m\n\u001b[0;32m--> 824\u001b[0;31m         \u001b[0;32mreturn\u001b[0m \u001b[0mself\u001b[0m\u001b[0;34m.\u001b[0m\u001b[0mpartial_fit\u001b[0m\u001b[0;34m(\u001b[0m\u001b[0mX\u001b[0m\u001b[0;34m,\u001b[0m \u001b[0my\u001b[0m\u001b[0;34m,\u001b[0m \u001b[0msample_weight\u001b[0m\u001b[0;34m)\u001b[0m\u001b[0;34m\u001b[0m\u001b[0;34m\u001b[0m\u001b[0m\n\u001b[0m\u001b[1;32m    825\u001b[0m \u001b[0;34m\u001b[0m\u001b[0m\n\u001b[1;32m    826\u001b[0m     \u001b[0;32mdef\u001b[0m \u001b[0mpartial_fit\u001b[0m\u001b[0;34m(\u001b[0m\u001b[0mself\u001b[0m\u001b[0;34m,\u001b[0m \u001b[0mX\u001b[0m\u001b[0;34m,\u001b[0m \u001b[0my\u001b[0m\u001b[0;34m=\u001b[0m\u001b[0;32mNone\u001b[0m\u001b[0;34m,\u001b[0m \u001b[0msample_weight\u001b[0m\u001b[0;34m=\u001b[0m\u001b[0;32mNone\u001b[0m\u001b[0;34m)\u001b[0m\u001b[0;34m:\u001b[0m\u001b[0;34m\u001b[0m\u001b[0;34m\u001b[0m\u001b[0m\n",
            "\u001b[0;32m/usr/local/lib/python3.10/dist-packages/sklearn/preprocessing/_data.py\u001b[0m in \u001b[0;36mpartial_fit\u001b[0;34m(self, X, y, sample_weight)\u001b[0m\n\u001b[1;32m    859\u001b[0m \u001b[0;34m\u001b[0m\u001b[0m\n\u001b[1;32m    860\u001b[0m         \u001b[0mfirst_call\u001b[0m \u001b[0;34m=\u001b[0m \u001b[0;32mnot\u001b[0m \u001b[0mhasattr\u001b[0m\u001b[0;34m(\u001b[0m\u001b[0mself\u001b[0m\u001b[0;34m,\u001b[0m \u001b[0;34m\"n_samples_seen_\"\u001b[0m\u001b[0;34m)\u001b[0m\u001b[0;34m\u001b[0m\u001b[0;34m\u001b[0m\u001b[0m\n\u001b[0;32m--> 861\u001b[0;31m         X = self._validate_data(\n\u001b[0m\u001b[1;32m    862\u001b[0m             \u001b[0mX\u001b[0m\u001b[0;34m,\u001b[0m\u001b[0;34m\u001b[0m\u001b[0;34m\u001b[0m\u001b[0m\n\u001b[1;32m    863\u001b[0m             \u001b[0maccept_sparse\u001b[0m\u001b[0;34m=\u001b[0m\u001b[0;34m(\u001b[0m\u001b[0;34m\"csr\"\u001b[0m\u001b[0;34m,\u001b[0m \u001b[0;34m\"csc\"\u001b[0m\u001b[0;34m)\u001b[0m\u001b[0;34m,\u001b[0m\u001b[0;34m\u001b[0m\u001b[0;34m\u001b[0m\u001b[0m\n",
            "\u001b[0;32m/usr/local/lib/python3.10/dist-packages/sklearn/base.py\u001b[0m in \u001b[0;36m_validate_data\u001b[0;34m(self, X, y, reset, validate_separately, **check_params)\u001b[0m\n\u001b[1;32m    563\u001b[0m             \u001b[0;32mraise\u001b[0m \u001b[0mValueError\u001b[0m\u001b[0;34m(\u001b[0m\u001b[0;34m\"Validation should be done on X, y or both.\"\u001b[0m\u001b[0;34m)\u001b[0m\u001b[0;34m\u001b[0m\u001b[0;34m\u001b[0m\u001b[0m\n\u001b[1;32m    564\u001b[0m         \u001b[0;32melif\u001b[0m \u001b[0;32mnot\u001b[0m \u001b[0mno_val_X\u001b[0m \u001b[0;32mand\u001b[0m \u001b[0mno_val_y\u001b[0m\u001b[0;34m:\u001b[0m\u001b[0;34m\u001b[0m\u001b[0;34m\u001b[0m\u001b[0m\n\u001b[0;32m--> 565\u001b[0;31m             \u001b[0mX\u001b[0m \u001b[0;34m=\u001b[0m \u001b[0mcheck_array\u001b[0m\u001b[0;34m(\u001b[0m\u001b[0mX\u001b[0m\u001b[0;34m,\u001b[0m \u001b[0minput_name\u001b[0m\u001b[0;34m=\u001b[0m\u001b[0;34m\"X\"\u001b[0m\u001b[0;34m,\u001b[0m \u001b[0;34m**\u001b[0m\u001b[0mcheck_params\u001b[0m\u001b[0;34m)\u001b[0m\u001b[0;34m\u001b[0m\u001b[0;34m\u001b[0m\u001b[0m\n\u001b[0m\u001b[1;32m    566\u001b[0m             \u001b[0mout\u001b[0m \u001b[0;34m=\u001b[0m \u001b[0mX\u001b[0m\u001b[0;34m\u001b[0m\u001b[0;34m\u001b[0m\u001b[0m\n\u001b[1;32m    567\u001b[0m         \u001b[0;32melif\u001b[0m \u001b[0mno_val_X\u001b[0m \u001b[0;32mand\u001b[0m \u001b[0;32mnot\u001b[0m \u001b[0mno_val_y\u001b[0m\u001b[0;34m:\u001b[0m\u001b[0;34m\u001b[0m\u001b[0;34m\u001b[0m\u001b[0m\n",
            "\u001b[0;32m/usr/local/lib/python3.10/dist-packages/sklearn/utils/validation.py\u001b[0m in \u001b[0;36mcheck_array\u001b[0;34m(array, accept_sparse, accept_large_sparse, dtype, order, copy, force_all_finite, ensure_2d, allow_nd, ensure_min_samples, ensure_min_features, estimator, input_name)\u001b[0m\n\u001b[1;32m    877\u001b[0m                     \u001b[0marray\u001b[0m \u001b[0;34m=\u001b[0m \u001b[0mxp\u001b[0m\u001b[0;34m.\u001b[0m\u001b[0mastype\u001b[0m\u001b[0;34m(\u001b[0m\u001b[0marray\u001b[0m\u001b[0;34m,\u001b[0m \u001b[0mdtype\u001b[0m\u001b[0;34m,\u001b[0m \u001b[0mcopy\u001b[0m\u001b[0;34m=\u001b[0m\u001b[0;32mFalse\u001b[0m\u001b[0;34m)\u001b[0m\u001b[0;34m\u001b[0m\u001b[0;34m\u001b[0m\u001b[0m\n\u001b[1;32m    878\u001b[0m                 \u001b[0;32melse\u001b[0m\u001b[0;34m:\u001b[0m\u001b[0;34m\u001b[0m\u001b[0;34m\u001b[0m\u001b[0m\n\u001b[0;32m--> 879\u001b[0;31m                     \u001b[0marray\u001b[0m \u001b[0;34m=\u001b[0m \u001b[0m_asarray_with_order\u001b[0m\u001b[0;34m(\u001b[0m\u001b[0marray\u001b[0m\u001b[0;34m,\u001b[0m \u001b[0morder\u001b[0m\u001b[0;34m=\u001b[0m\u001b[0morder\u001b[0m\u001b[0;34m,\u001b[0m \u001b[0mdtype\u001b[0m\u001b[0;34m=\u001b[0m\u001b[0mdtype\u001b[0m\u001b[0;34m,\u001b[0m \u001b[0mxp\u001b[0m\u001b[0;34m=\u001b[0m\u001b[0mxp\u001b[0m\u001b[0;34m)\u001b[0m\u001b[0;34m\u001b[0m\u001b[0;34m\u001b[0m\u001b[0m\n\u001b[0m\u001b[1;32m    880\u001b[0m             \u001b[0;32mexcept\u001b[0m \u001b[0mComplexWarning\u001b[0m \u001b[0;32mas\u001b[0m \u001b[0mcomplex_warning\u001b[0m\u001b[0;34m:\u001b[0m\u001b[0;34m\u001b[0m\u001b[0;34m\u001b[0m\u001b[0m\n\u001b[1;32m    881\u001b[0m                 raise ValueError(\n",
            "\u001b[0;32m/usr/local/lib/python3.10/dist-packages/sklearn/utils/_array_api.py\u001b[0m in \u001b[0;36m_asarray_with_order\u001b[0;34m(array, dtype, order, copy, xp)\u001b[0m\n\u001b[1;32m    183\u001b[0m     \u001b[0;32mif\u001b[0m \u001b[0mxp\u001b[0m\u001b[0;34m.\u001b[0m\u001b[0m__name__\u001b[0m \u001b[0;32min\u001b[0m \u001b[0;34m{\u001b[0m\u001b[0;34m\"numpy\"\u001b[0m\u001b[0;34m,\u001b[0m \u001b[0;34m\"numpy.array_api\"\u001b[0m\u001b[0;34m}\u001b[0m\u001b[0;34m:\u001b[0m\u001b[0;34m\u001b[0m\u001b[0;34m\u001b[0m\u001b[0m\n\u001b[1;32m    184\u001b[0m         \u001b[0;31m# Use NumPy API to support order\u001b[0m\u001b[0;34m\u001b[0m\u001b[0;34m\u001b[0m\u001b[0m\n\u001b[0;32m--> 185\u001b[0;31m         \u001b[0marray\u001b[0m \u001b[0;34m=\u001b[0m \u001b[0mnumpy\u001b[0m\u001b[0;34m.\u001b[0m\u001b[0masarray\u001b[0m\u001b[0;34m(\u001b[0m\u001b[0marray\u001b[0m\u001b[0;34m,\u001b[0m \u001b[0morder\u001b[0m\u001b[0;34m=\u001b[0m\u001b[0morder\u001b[0m\u001b[0;34m,\u001b[0m \u001b[0mdtype\u001b[0m\u001b[0;34m=\u001b[0m\u001b[0mdtype\u001b[0m\u001b[0;34m)\u001b[0m\u001b[0;34m\u001b[0m\u001b[0;34m\u001b[0m\u001b[0m\n\u001b[0m\u001b[1;32m    186\u001b[0m         \u001b[0;32mreturn\u001b[0m \u001b[0mxp\u001b[0m\u001b[0;34m.\u001b[0m\u001b[0masarray\u001b[0m\u001b[0;34m(\u001b[0m\u001b[0marray\u001b[0m\u001b[0;34m,\u001b[0m \u001b[0mcopy\u001b[0m\u001b[0;34m=\u001b[0m\u001b[0mcopy\u001b[0m\u001b[0;34m)\u001b[0m\u001b[0;34m\u001b[0m\u001b[0;34m\u001b[0m\u001b[0m\n\u001b[1;32m    187\u001b[0m     \u001b[0;32melse\u001b[0m\u001b[0;34m:\u001b[0m\u001b[0;34m\u001b[0m\u001b[0;34m\u001b[0m\u001b[0m\n",
            "\u001b[0;32m/usr/local/lib/python3.10/dist-packages/pandas/core/generic.py\u001b[0m in \u001b[0;36m__array__\u001b[0;34m(self, dtype)\u001b[0m\n\u001b[1;32m   2068\u001b[0m \u001b[0;34m\u001b[0m\u001b[0m\n\u001b[1;32m   2069\u001b[0m     \u001b[0;32mdef\u001b[0m \u001b[0m__array__\u001b[0m\u001b[0;34m(\u001b[0m\u001b[0mself\u001b[0m\u001b[0;34m,\u001b[0m \u001b[0mdtype\u001b[0m\u001b[0;34m:\u001b[0m \u001b[0mnpt\u001b[0m\u001b[0;34m.\u001b[0m\u001b[0mDTypeLike\u001b[0m \u001b[0;34m|\u001b[0m \u001b[0;32mNone\u001b[0m \u001b[0;34m=\u001b[0m \u001b[0;32mNone\u001b[0m\u001b[0;34m)\u001b[0m \u001b[0;34m->\u001b[0m \u001b[0mnp\u001b[0m\u001b[0;34m.\u001b[0m\u001b[0mndarray\u001b[0m\u001b[0;34m:\u001b[0m\u001b[0;34m\u001b[0m\u001b[0;34m\u001b[0m\u001b[0m\n\u001b[0;32m-> 2070\u001b[0;31m         \u001b[0;32mreturn\u001b[0m \u001b[0mnp\u001b[0m\u001b[0;34m.\u001b[0m\u001b[0masarray\u001b[0m\u001b[0;34m(\u001b[0m\u001b[0mself\u001b[0m\u001b[0;34m.\u001b[0m\u001b[0m_values\u001b[0m\u001b[0;34m,\u001b[0m \u001b[0mdtype\u001b[0m\u001b[0;34m=\u001b[0m\u001b[0mdtype\u001b[0m\u001b[0;34m)\u001b[0m\u001b[0;34m\u001b[0m\u001b[0;34m\u001b[0m\u001b[0m\n\u001b[0m\u001b[1;32m   2071\u001b[0m \u001b[0;34m\u001b[0m\u001b[0m\n\u001b[1;32m   2072\u001b[0m     def __array_wrap__(\n",
            "\u001b[0;31mValueError\u001b[0m: could not convert string to float: 'Middle Tennessee'"
          ]
        }
      ]
    },
    {
      "cell_type": "code",
      "source": [],
      "metadata": {
        "id": "ji52mhu4miOx"
      },
      "execution_count": null,
      "outputs": []
    },
    {
      "cell_type": "code",
      "source": [
        "\n",
        "X_train_scaled = scaler.fit_transform(X_train_encoded)\n",
        "X_test_scaled = scaler.transform(X_test_encoded)"
      ],
      "metadata": {
        "id": "4__oV_cnTrLd"
      },
      "execution_count": null,
      "outputs": []
    },
    {
      "cell_type": "code",
      "source": [
        "X_train_preprocessed = preprocessor.fit_transform(X_train)\n",
        "X_test_preprocessed = preprocessor.transform(X_test)"
      ],
      "metadata": {
        "id": "01HumwxYQZ1n"
      },
      "execution_count": null,
      "outputs": []
    },
    {
      "cell_type": "code",
      "source": [
        "scaler = StandardScaler()\n",
        "X_train_scaled = scaler.fit_transform(X_train)\n",
        "X_test_scaled = scaler.transform(X_test)"
      ],
      "metadata": {
        "id": "W8JSt5g_x6h3"
      },
      "execution_count": null,
      "outputs": []
    },
    {
      "cell_type": "markdown",
      "source": [
        "MODEL BUILDING"
      ],
      "metadata": {
        "id": "ilZ84ozaYu-N"
      }
    },
    {
      "cell_type": "code",
      "source": [
        "model = RandomForestClassifier(n_estimators=100, random_state=42)\n",
        "model.fit(X_train_scaled, y_train)"
      ],
      "metadata": {
        "id": "kitfVRXeNGrB"
      },
      "execution_count": null,
      "outputs": []
    },
    {
      "cell_type": "code",
      "source": [
        "# Make predictions\n",
        "predictions = model.predict_proba(X_test_scaled)[:, 1]"
      ],
      "metadata": {
        "id": "k4T38oyIMzjP"
      },
      "execution_count": null,
      "outputs": []
    },
    {
      "cell_type": "code",
      "source": [
        "# AUROC score\n",
        "auroc_score = roc_auc_score(y_true, predictions)"
      ],
      "metadata": {
        "id": "PcNjnZCfM7lK"
      },
      "execution_count": null,
      "outputs": []
    },
    {
      "cell_type": "code",
      "source": [
        "# Create submission file\n",
        "submission = pd.DataFrame({'player_id': test_data['player_id'], 'drafted': predictions})\n",
        "submission.to_csv('submission.csv', index=False)\n",
        "#Remember to adjust the parameters of the model, perform feature selection, and fine-tune the hyperparameters as needed to achieve the best possible AUROC score on your test dataset.\n",
        "\n",
        "\n",
        "\n",
        "\n",
        "\n"
      ],
      "metadata": {
        "id": "5xTpHRZlNCMk"
      },
      "execution_count": null,
      "outputs": []
    },
    {
      "cell_type": "markdown",
      "metadata": {
        "id": "1yX0Ocg4hcZM"
      },
      "source": [
        "## 6.   Push changes"
      ]
    },
    {
      "cell_type": "markdown",
      "metadata": {
        "id": "3guOKU9gjrmp"
      },
      "source": [
        " Add your changes to git staging area"
      ]
    },
    {
      "cell_type": "code",
      "execution_count": null,
      "metadata": {
        "id": "axcj-jS0jruy"
      },
      "outputs": [],
      "source": [
        "# Solution:\n",
        "git add ."
      ]
    },
    {
      "cell_type": "markdown",
      "metadata": {
        "id": "6nUK2dp_j67X"
      },
      "source": [
        "Create the snapshot of your repository and add a description"
      ]
    },
    {
      "cell_type": "code",
      "execution_count": null,
      "metadata": {
        "id": "zovhzXRxj7Il"
      },
      "outputs": [],
      "source": [
        "# Solution:\n",
        "git commit -m \"prepare data and baseline\""
      ]
    },
    {
      "cell_type": "markdown",
      "metadata": {
        "id": "Y9FciIQZj7nX"
      },
      "source": [
        " Push your snapshot to Github"
      ]
    },
    {
      "cell_type": "code",
      "execution_count": null,
      "metadata": {
        "id": "WaVAgJ4Aj7wi"
      },
      "outputs": [],
      "source": [
        "# Solution:\n",
        "git push"
      ]
    },
    {
      "cell_type": "markdown",
      "metadata": {
        "id": "L9IP0YcaqGQK"
      },
      "source": [
        " Stop Jupyter Lab"
      ]
    }
  ],
  "metadata": {
    "colab": {
      "provenance": []
    },
    "kernelspec": {
      "display_name": "Python 3 (ipykernel)",
      "language": "python",
      "name": "python3"
    },
    "language_info": {
      "codemirror_mode": {
        "name": "ipython",
        "version": 3
      },
      "file_extension": ".py",
      "mimetype": "text/x-python",
      "name": "python",
      "nbconvert_exporter": "python",
      "pygments_lexer": "ipython3",
      "version": "3.11.3"
    }
  },
  "nbformat": 4,
  "nbformat_minor": 0
}